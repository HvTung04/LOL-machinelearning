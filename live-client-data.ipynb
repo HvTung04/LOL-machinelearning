{
 "cells": [
  {
   "cell_type": "code",
   "execution_count": 1,
   "metadata": {},
   "outputs": [],
   "source": [
    "import pymongo\n",
    "import requests\n",
    "import json\n",
    "import pandas as pd\n",
    "from autogluon.tabular import TabularDataset, TabularPredictor"
   ]
  },
  {
   "cell_type": "code",
   "execution_count": 2,
   "metadata": {},
   "outputs": [],
   "source": [
    "config = {\n",
    "    'mongo_uri': \"mongo-uri\",\n",
    "    \"api_key\": \"RIOT-API-KEY\",\n",
    "}\n",
    "\n",
    "def get_region(server):\n",
    "    if server in ['NA1', 'LA1', 'LA2', 'BR1']:\n",
    "        return 'AMERICAS'\n",
    "    elif server in ['EUN1', 'EUW1', 'TR1', 'RU']:\n",
    "        return 'EUROPE'\n",
    "    elif server in ['JP1', 'KR']:\n",
    "        return 'ASIA'\n",
    "    elif server in ['OC1', 'VN2', 'PH2', 'TH2', 'TW2', 'SG2']:\n",
    "        return 'SEA'"
   ]
  },
  {
   "cell_type": "code",
   "execution_count": 3,
   "metadata": {},
   "outputs": [
    {
     "name": "stdout",
     "output_type": "stream",
     "text": [
      "Pinged your deployment. You successfully connected to MongoDB!\n"
     ]
    }
   ],
   "source": [
    "client = pymongo.MongoClient(config['mongo_uri'])\n",
    "db = client.myLOLDB\n",
    "# Send a ping to confirm a successful connection\n",
    "try:\n",
    "    client.admin.command('ping')\n",
    "    print(\"Pinged your deployment. You successfully connected to MongoDB!\")\n",
    "except Exception as e:\n",
    "    print(e)"
   ]
  },
  {
   "cell_type": "code",
   "execution_count": 4,
   "metadata": {},
   "outputs": [],
   "source": [
    "def get_match_timeline(match_id, region, db_collection, api_key=config['api_key']):\n",
    "    if db_collection.find_one({'identifier': f\"{match_id}_1\"}):\n",
    "        print(f\"{match_id} already exists in the database\")\n",
    "        return\n",
    "\n",
    "    url = f\"https://{region}.api.riotgames.com/lol/match/v5/matches/{match_id}/timeline?api_key={api_key}\"\n",
    "    try:\n",
    "        frames = requests.get(url).json()['info']['frames']\n",
    "    except:\n",
    "        return\n",
    "    \n",
    "    # Get the winning team first\n",
    "    last_event = frames[-1]['events']\n",
    "    assert last_event[-1]['type'] == 'GAME_END'\n",
    "    winner = last_event[-1]['winningTeam']\n",
    "    \n",
    "    # Get players' stats in each frame\n",
    "    for frame in frames:\n",
    "        for participantGameId in range(1, 11):\n",
    "            frame_data = {\n",
    "                'timestamp': frame['timestamp'],\n",
    "                'currentGold': frame['participantFrames'][str(participantGameId)]['currentGold'],\n",
    "                \"abilityHaste\": frame['participantFrames'][str(participantGameId)]['championStats']['abilityHaste'],\n",
    "                \"abilityPower\": frame['participantFrames'][str(participantGameId)]['championStats']['abilityPower'],\n",
    "                \"armor\": frame['participantFrames'][str(participantGameId)]['championStats']['armor'],\n",
    "                \"armorPenetrationFlat\": frame['participantFrames'][str(participantGameId)]['championStats']['armorPen'],\n",
    "                \"armorPenetrationPercent\": frame['participantFrames'][str(participantGameId)]['championStats']['armorPenPercent'],\n",
    "                \"attackDamage\": frame['participantFrames'][str(participantGameId)]['championStats']['attackDamage'],\n",
    "                \"attackSpeed\": frame['participantFrames'][str(participantGameId)]['championStats']['attackSpeed'],\n",
    "                \"bonusArmorPenetrationPercent\": frame['participantFrames'][str(participantGameId)]['championStats']['bonusArmorPenPercent'],\n",
    "                \"bonusMagicPenetrationPercent\": frame['participantFrames'][str(participantGameId)]['championStats']['bonusMagicPenPercent'],\n",
    "                \"currentHealth\": frame['participantFrames'][str(participantGameId)]['championStats']['health'],\n",
    "                \"healthRegenRate\": frame['participantFrames'][str(participantGameId)]['championStats']['healthRegen'],\n",
    "                \"lifeSteal\": frame['participantFrames'][str(participantGameId)]['championStats']['lifesteal'],\n",
    "                \"magicPenetrationFlat\": frame['participantFrames'][str(participantGameId)]['championStats']['magicPen'],\n",
    "                \"magicPenetrationPercent\": frame['participantFrames'][str(participantGameId)]['championStats']['magicPenPercent'],\n",
    "                \"magicResist\": frame['participantFrames'][str(participantGameId)]['championStats']['magicResist'],\n",
    "                \"maxHealth\": frame['participantFrames'][str(participantGameId)]['championStats']['healthMax'],\n",
    "                \"moveSpeed\": frame['participantFrames'][str(participantGameId)]['championStats']['movementSpeed'],\n",
    "                \"omnivamp\": frame['participantFrames'][str(participantGameId)]['championStats']['omnivamp'],\n",
    "                \"physicalVamp\": frame['participantFrames'][str(participantGameId)]['championStats']['physicalVamp'],\n",
    "                \"resourceMax\": frame['participantFrames'][str(participantGameId)]['championStats']['powerMax'],\n",
    "                \"resourceRegenRate\": frame['participantFrames'][str(participantGameId)]['championStats']['powerRegen'],\n",
    "                \"resourceValue\": frame['participantFrames'][str(participantGameId)]['championStats']['power'],\n",
    "                \"spellVamp\": frame['participantFrames'][str(participantGameId)]['championStats']['spellVamp'],\n",
    "                \"identifier\": f\"{match_id}_{frame['participantFrames'][str(participantGameId)]['participantId']}\"\n",
    "            }\n",
    "\n",
    "            if winner == 100:\n",
    "                if participantGameId in range(1, 6):\n",
    "                    frame_data['winner'] = 1\n",
    "                else:\n",
    "                    frame_data['winner'] = 0\n",
    "            else:\n",
    "                if participantGameId in range(6, 11):\n",
    "                    frame_data['winner'] = 1\n",
    "                else:\n",
    "                    frame_data['winner'] = 0\n",
    "            \n",
    "            db_collection.insert_one(frame_data)\n",
    "            print(f\"Inserted {frame_data['identifier']}\")"
   ]
  },
  {
   "cell_type": "code",
   "execution_count": null,
   "metadata": {},
   "outputs": [],
   "source": [
    "matches = db['match'].find()\n",
    "for match in matches:\n",
    "    get_match_timeline(match['match_id'], get_region(match['match_id'].split('_')[0]).lower(), db['game_data_by_frame'])"
   ]
  },
  {
   "cell_type": "code",
   "execution_count": null,
   "metadata": {},
   "outputs": [],
   "source": [
    "documents = db['game_data_by_frame'].find()\n",
    "\n",
    "# Convert documents to a list of dictionaries\n",
    "data = [doc for doc in documents]\n"
   ]
  },
  {
   "cell_type": "code",
   "execution_count": 8,
   "metadata": {},
   "outputs": [],
   "source": [
    "# Create a DataFrame from the data\n",
    "df = pd.DataFrame(data)"
   ]
  },
  {
   "cell_type": "code",
   "execution_count": 12,
   "metadata": {},
   "outputs": [],
   "source": [
    "df = df.drop(columns=['_id', 'identifier', 'armorPenetrationFlat', 'bonusArmorPenetrationPercent', 'bonusMagicPenetrationPercent'])\n",
    "df = TabularDataset(df)\n",
    "\n",
    "train = df.sample(frac=0.8, random_state=200)\n",
    "test = df.drop(train.index)"
   ]
  },
  {
   "cell_type": "code",
   "execution_count": 13,
   "metadata": {},
   "outputs": [
    {
     "data": {
      "text/html": [
       "<div>\n",
       "<style scoped>\n",
       "    .dataframe tbody tr th:only-of-type {\n",
       "        vertical-align: middle;\n",
       "    }\n",
       "\n",
       "    .dataframe tbody tr th {\n",
       "        vertical-align: top;\n",
       "    }\n",
       "\n",
       "    .dataframe thead th {\n",
       "        text-align: right;\n",
       "    }\n",
       "</style>\n",
       "<table border=\"1\" class=\"dataframe\">\n",
       "  <thead>\n",
       "    <tr style=\"text-align: right;\">\n",
       "      <th></th>\n",
       "      <th>timestamp</th>\n",
       "      <th>currentGold</th>\n",
       "      <th>abilityHaste</th>\n",
       "      <th>abilityPower</th>\n",
       "      <th>armor</th>\n",
       "      <th>armorPenetrationPercent</th>\n",
       "      <th>attackDamage</th>\n",
       "      <th>attackSpeed</th>\n",
       "      <th>currentHealth</th>\n",
       "      <th>healthRegenRate</th>\n",
       "      <th>...</th>\n",
       "      <th>magicResist</th>\n",
       "      <th>maxHealth</th>\n",
       "      <th>moveSpeed</th>\n",
       "      <th>omnivamp</th>\n",
       "      <th>physicalVamp</th>\n",
       "      <th>resourceMax</th>\n",
       "      <th>resourceRegenRate</th>\n",
       "      <th>resourceValue</th>\n",
       "      <th>spellVamp</th>\n",
       "      <th>winner</th>\n",
       "    </tr>\n",
       "  </thead>\n",
       "  <tbody>\n",
       "    <tr>\n",
       "      <th>7353</th>\n",
       "      <td>180036</td>\n",
       "      <td>763</td>\n",
       "      <td>0</td>\n",
       "      <td>0</td>\n",
       "      <td>32</td>\n",
       "      <td>0</td>\n",
       "      <td>79</td>\n",
       "      <td>116</td>\n",
       "      <td>869</td>\n",
       "      <td>8</td>\n",
       "      <td>...</td>\n",
       "      <td>30</td>\n",
       "      <td>869</td>\n",
       "      <td>560</td>\n",
       "      <td>0</td>\n",
       "      <td>0</td>\n",
       "      <td>389</td>\n",
       "      <td>17</td>\n",
       "      <td>389</td>\n",
       "      <td>0</td>\n",
       "      <td>1</td>\n",
       "    </tr>\n",
       "    <tr>\n",
       "      <th>11196</th>\n",
       "      <td>360092</td>\n",
       "      <td>541</td>\n",
       "      <td>0</td>\n",
       "      <td>49</td>\n",
       "      <td>38</td>\n",
       "      <td>0</td>\n",
       "      <td>70</td>\n",
       "      <td>108</td>\n",
       "      <td>800</td>\n",
       "      <td>8</td>\n",
       "      <td>...</td>\n",
       "      <td>36</td>\n",
       "      <td>979</td>\n",
       "      <td>440</td>\n",
       "      <td>0</td>\n",
       "      <td>0</td>\n",
       "      <td>564</td>\n",
       "      <td>104</td>\n",
       "      <td>260</td>\n",
       "      <td>0</td>\n",
       "      <td>0</td>\n",
       "    </tr>\n",
       "    <tr>\n",
       "      <th>2918</th>\n",
       "      <td>1299607</td>\n",
       "      <td>2270</td>\n",
       "      <td>0</td>\n",
       "      <td>0</td>\n",
       "      <td>73</td>\n",
       "      <td>0</td>\n",
       "      <td>201</td>\n",
       "      <td>262</td>\n",
       "      <td>2207</td>\n",
       "      <td>19</td>\n",
       "      <td>...</td>\n",
       "      <td>44</td>\n",
       "      <td>2207</td>\n",
       "      <td>381</td>\n",
       "      <td>0</td>\n",
       "      <td>0</td>\n",
       "      <td>615</td>\n",
       "      <td>22</td>\n",
       "      <td>515</td>\n",
       "      <td>0</td>\n",
       "      <td>1</td>\n",
       "    </tr>\n",
       "    <tr>\n",
       "      <th>43950</th>\n",
       "      <td>1440337</td>\n",
       "      <td>450</td>\n",
       "      <td>0</td>\n",
       "      <td>296</td>\n",
       "      <td>149</td>\n",
       "      <td>0</td>\n",
       "      <td>118</td>\n",
       "      <td>122</td>\n",
       "      <td>2424</td>\n",
       "      <td>28</td>\n",
       "      <td>...</td>\n",
       "      <td>49</td>\n",
       "      <td>2424</td>\n",
       "      <td>457</td>\n",
       "      <td>0</td>\n",
       "      <td>0</td>\n",
       "      <td>150</td>\n",
       "      <td>0</td>\n",
       "      <td>110</td>\n",
       "      <td>0</td>\n",
       "      <td>0</td>\n",
       "    </tr>\n",
       "    <tr>\n",
       "      <th>34859</th>\n",
       "      <td>60003</td>\n",
       "      <td>0</td>\n",
       "      <td>0</td>\n",
       "      <td>9</td>\n",
       "      <td>25</td>\n",
       "      <td>0</td>\n",
       "      <td>56</td>\n",
       "      <td>100</td>\n",
       "      <td>670</td>\n",
       "      <td>13</td>\n",
       "      <td>...</td>\n",
       "      <td>30</td>\n",
       "      <td>670</td>\n",
       "      <td>335</td>\n",
       "      <td>0</td>\n",
       "      <td>0</td>\n",
       "      <td>340</td>\n",
       "      <td>27</td>\n",
       "      <td>340</td>\n",
       "      <td>0</td>\n",
       "      <td>1</td>\n",
       "    </tr>\n",
       "  </tbody>\n",
       "</table>\n",
       "<p>5 rows × 23 columns</p>\n",
       "</div>"
      ],
      "text/plain": [
       "       timestamp  currentGold  abilityHaste  abilityPower  armor  \\\n",
       "7353      180036          763             0             0     32   \n",
       "11196     360092          541             0            49     38   \n",
       "2918     1299607         2270             0             0     73   \n",
       "43950    1440337          450             0           296    149   \n",
       "34859      60003            0             0             9     25   \n",
       "\n",
       "       armorPenetrationPercent  attackDamage  attackSpeed  currentHealth  \\\n",
       "7353                         0            79          116            869   \n",
       "11196                        0            70          108            800   \n",
       "2918                         0           201          262           2207   \n",
       "43950                        0           118          122           2424   \n",
       "34859                        0            56          100            670   \n",
       "\n",
       "       healthRegenRate  ...  magicResist  maxHealth  moveSpeed  omnivamp  \\\n",
       "7353                 8  ...           30        869        560         0   \n",
       "11196                8  ...           36        979        440         0   \n",
       "2918                19  ...           44       2207        381         0   \n",
       "43950               28  ...           49       2424        457         0   \n",
       "34859               13  ...           30        670        335         0   \n",
       "\n",
       "       physicalVamp  resourceMax  resourceRegenRate  resourceValue  spellVamp  \\\n",
       "7353              0          389                 17            389          0   \n",
       "11196             0          564                104            260          0   \n",
       "2918              0          615                 22            515          0   \n",
       "43950             0          150                  0            110          0   \n",
       "34859             0          340                 27            340          0   \n",
       "\n",
       "       winner  \n",
       "7353        1  \n",
       "11196       0  \n",
       "2918        1  \n",
       "43950       0  \n",
       "34859       1  \n",
       "\n",
       "[5 rows x 23 columns]"
      ]
     },
     "execution_count": 13,
     "metadata": {},
     "output_type": "execute_result"
    }
   ],
   "source": [
    "train.head()"
   ]
  },
  {
   "cell_type": "code",
   "execution_count": 14,
   "metadata": {},
   "outputs": [
    {
     "name": "stderr",
     "output_type": "stream",
     "text": [
      "No presets specified! To achieve strong results with AutoGluon, it is recommended to use the available presets.\n",
      "\tRecommended Presets (For more details refer to https://auto.gluon.ai/stable/tutorials/tabular/tabular-essentials.html#presets):\n",
      "\tpresets='best_quality'   : Maximize accuracy. Default time_limit=3600.\n",
      "\tpresets='high_quality'   : Strong accuracy with fast inference speed. Default time_limit=3600.\n",
      "\tpresets='good_quality'   : Good accuracy with very fast inference speed. Default time_limit=3600.\n",
      "\tpresets='medium_quality' : Fast training time, ideal for initial prototyping.\n",
      "Beginning AutoGluon training ...\n",
      "AutoGluon will save models to \"autogluon_live_client_model\"\n",
      "=================== System Info ===================\n",
      "AutoGluon Version:  1.1.0\n",
      "Python Version:     3.11.5\n",
      "Operating System:   Windows\n",
      "Platform Machine:   AMD64\n",
      "Platform Version:   10.0.22631\n",
      "CPU Count:          12\n",
      "Memory Avail:       5.37 GB / 15.34 GB (35.0%)\n",
      "Disk Space Avail:   68.39 GB / 237.36 GB (28.8%)\n",
      "===================================================\n",
      "Train Data Rows:    87306\n",
      "Train Data Columns: 22\n",
      "Label Column:       winner\n",
      "AutoGluon infers your prediction problem is: 'binary' (because only two unique label-values observed).\n",
      "\t2 unique label values:  [1, 0]\n",
      "\tIf 'binary' is not the correct problem_type, please manually specify the problem_type parameter during predictor init (You may specify problem_type as one of: ['binary', 'multiclass', 'regression'])\n",
      "Problem Type:       binary\n",
      "Preprocessing data ...\n",
      "Selected class <--> label mapping:  class 1 = 1, class 0 = 0\n",
      "Using Feature Generators to preprocess the data ...\n",
      "Fitting AutoMLPipelineFeatureGenerator...\n",
      "\tAvailable Memory:                    5489.39 MB\n",
      "\tTrain Data (Original)  Memory Usage: 14.65 MB (0.3% of available memory)\n",
      "\tInferring data type of each feature based on column values. Set feature_metadata_in to manually specify special dtypes of the features.\n",
      "\tStage 1 Generators:\n",
      "\t\tFitting AsTypeFeatureGenerator...\n",
      "\tStage 2 Generators:\n",
      "\t\tFitting FillNaFeatureGenerator...\n",
      "\tStage 3 Generators:\n",
      "\t\tFitting IdentityFeatureGenerator...\n",
      "\tStage 4 Generators:\n",
      "\t\tFitting DropUniqueFeatureGenerator...\n",
      "\tStage 5 Generators:\n",
      "\t\tFitting DropDuplicatesFeatureGenerator...\n",
      "\tUseless Original Features (Count: 2): ['abilityHaste', 'physicalVamp']\n",
      "\t\tThese features carry no predictive signal and should be manually investigated.\n",
      "\t\tThis is typically a feature which has the same value for all rows.\n",
      "\t\tThese features do not need to be present at inference time.\n",
      "\tTypes of features in original data (raw dtype, special dtypes):\n",
      "\t\t('int', []) : 20 | ['timestamp', 'currentGold', 'abilityPower', 'armor', 'armorPenetrationPercent', ...]\n",
      "\tTypes of features in processed data (raw dtype, special dtypes):\n",
      "\t\t('int', []) : 20 | ['timestamp', 'currentGold', 'abilityPower', 'armor', 'armorPenetrationPercent', ...]\n",
      "\t0.3s = Fit runtime\n",
      "\t20 features in original data used to generate 20 features in processed data.\n",
      "\tTrain Data (Processed) Memory Usage: 13.32 MB (0.2% of available memory)\n",
      "Data preprocessing and feature engineering runtime = 0.3s ...\n",
      "AutoGluon will gauge predictive performance using evaluation metric: 'accuracy'\n",
      "\tTo change this, specify the eval_metric parameter of Predictor()\n",
      "Automatically generating train/validation split with holdout_frac=0.028634916271504822, Train Rows: 84806, Val Rows: 2500\n",
      "User-specified model hyperparameters to be fit:\n",
      "{\n",
      "\t'NN_TORCH': {},\n",
      "\t'GBM': [{'extra_trees': True, 'ag_args': {'name_suffix': 'XT'}}, {}, 'GBMLarge'],\n",
      "\t'CAT': {},\n",
      "\t'XGB': {},\n",
      "\t'FASTAI': {},\n",
      "\t'RF': [{'criterion': 'gini', 'ag_args': {'name_suffix': 'Gini', 'problem_types': ['binary', 'multiclass']}}, {'criterion': 'entropy', 'ag_args': {'name_suffix': 'Entr', 'problem_types': ['binary', 'multiclass']}}, {'criterion': 'squared_error', 'ag_args': {'name_suffix': 'MSE', 'problem_types': ['regression', 'quantile']}}],\n",
      "\t'XT': [{'criterion': 'gini', 'ag_args': {'name_suffix': 'Gini', 'problem_types': ['binary', 'multiclass']}}, {'criterion': 'entropy', 'ag_args': {'name_suffix': 'Entr', 'problem_types': ['binary', 'multiclass']}}, {'criterion': 'squared_error', 'ag_args': {'name_suffix': 'MSE', 'problem_types': ['regression', 'quantile']}}],\n",
      "\t'KNN': [{'weights': 'uniform', 'ag_args': {'name_suffix': 'Unif'}}, {'weights': 'distance', 'ag_args': {'name_suffix': 'Dist'}}],\n",
      "}\n",
      "Fitting 13 L1 models ...\n",
      "Fitting model: KNeighborsUnif ...\n",
      "\t0.5136\t = Validation score   (accuracy)\n",
      "\t6.4s\t = Training   runtime\n",
      "\t0.12s\t = Validation runtime\n",
      "Fitting model: KNeighborsDist ...\n",
      "\t0.5144\t = Validation score   (accuracy)\n",
      "\t0.05s\t = Training   runtime\n",
      "\t0.07s\t = Validation runtime\n",
      "Fitting model: LightGBMXT ...\n",
      "\t0.6064\t = Validation score   (accuracy)\n",
      "\t2.93s\t = Training   runtime\n",
      "\t0.01s\t = Validation runtime\n",
      "Fitting model: LightGBM ...\n",
      "\t0.6348\t = Validation score   (accuracy)\n",
      "\t1.67s\t = Training   runtime\n",
      "\t0.01s\t = Validation runtime\n",
      "Fitting model: RandomForestGini ...\n",
      "\t0.6504\t = Validation score   (accuracy)\n",
      "\t16.1s\t = Training   runtime\n",
      "\t0.12s\t = Validation runtime\n",
      "Fitting model: RandomForestEntr ...\n",
      "\t0.6544\t = Validation score   (accuracy)\n",
      "\t19.11s\t = Training   runtime\n",
      "\t0.11s\t = Validation runtime\n",
      "Fitting model: CatBoost ...\n",
      "\t0.6336\t = Validation score   (accuracy)\n",
      "\t17.51s\t = Training   runtime\n",
      "\t0.0s\t = Validation runtime\n",
      "Fitting model: ExtraTreesGini ...\n",
      "\t0.6492\t = Validation score   (accuracy)\n",
      "\t9.5s\t = Training   runtime\n",
      "\t0.12s\t = Validation runtime\n",
      "Fitting model: ExtraTreesEntr ...\n",
      "\t0.6504\t = Validation score   (accuracy)\n",
      "\t9.5s\t = Training   runtime\n",
      "\t0.13s\t = Validation runtime\n",
      "Fitting model: NeuralNetFastAI ...\n",
      "\t0.6264\t = Validation score   (accuracy)\n",
      "\t106.72s\t = Training   runtime\n",
      "\t0.05s\t = Validation runtime\n",
      "Fitting model: XGBoost ...\n",
      "\t0.6412\t = Validation score   (accuracy)\n",
      "\t1.88s\t = Training   runtime\n",
      "\t0.01s\t = Validation runtime\n",
      "Fitting model: NeuralNetTorch ...\n",
      "\t0.654\t = Validation score   (accuracy)\n",
      "\t617.6s\t = Training   runtime\n",
      "\t0.03s\t = Validation runtime\n",
      "Fitting model: LightGBMLarge ...\n",
      "\t0.658\t = Validation score   (accuracy)\n",
      "\t3.69s\t = Training   runtime\n",
      "\t0.02s\t = Validation runtime\n",
      "Fitting model: WeightedEnsemble_L2 ...\n",
      "\tEnsemble Weights: {'ExtraTreesEntr': 0.32, 'NeuralNetTorch': 0.2, 'RandomForestGini': 0.12, 'LightGBMLarge': 0.12, 'LightGBM': 0.08, 'RandomForestEntr': 0.08, 'NeuralNetFastAI': 0.04, 'XGBoost': 0.04}\n",
      "\t0.6744\t = Validation score   (accuracy)\n",
      "\t0.17s\t = Training   runtime\n",
      "\t0.0s\t = Validation runtime\n",
      "AutoGluon training complete, total runtime = 818.32s ... Best model: \"WeightedEnsemble_L2\"\n",
      "TabularPredictor saved. To load, use: predictor = TabularPredictor.load(\"autogluon_live_client_model\")\n"
     ]
    }
   ],
   "source": [
    "label = 'winner'\n",
    "save_path = 'autogluon_live_client_model'\n",
    "predictor = TabularPredictor(label=label, path=save_path).fit(train_data=train)\n",
    "\n",
    "y_test = test[label]\n",
    "test_data_nolab = test.drop(columns=[label])  # delete label column to prove we're not cheating\n"
   ]
  },
  {
   "cell_type": "code",
   "execution_count": 15,
   "metadata": {},
   "outputs": [
    {
     "name": "stderr",
     "output_type": "stream",
     "text": [
      "These features in provided data are not utilized by the predictor and will be ignored: ['abilityHaste', 'physicalVamp']\n",
      "Computing feature importance via permutation shuffling for 20 features using 5000 rows with 5 shuffle sets...\n",
      "\t401.12s\t= Expected runtime (80.22s per shuffle set)\n",
      "\t63.43s\t= Actual runtime (Completed 5 of 5 shuffle sets)\n"
     ]
    },
    {
     "data": {
      "text/html": [
       "<div>\n",
       "<style scoped>\n",
       "    .dataframe tbody tr th:only-of-type {\n",
       "        vertical-align: middle;\n",
       "    }\n",
       "\n",
       "    .dataframe tbody tr th {\n",
       "        vertical-align: top;\n",
       "    }\n",
       "\n",
       "    .dataframe thead th {\n",
       "        text-align: right;\n",
       "    }\n",
       "</style>\n",
       "<table border=\"1\" class=\"dataframe\">\n",
       "  <thead>\n",
       "    <tr style=\"text-align: right;\">\n",
       "      <th></th>\n",
       "      <th>importance</th>\n",
       "      <th>stddev</th>\n",
       "      <th>p_value</th>\n",
       "      <th>n</th>\n",
       "      <th>p99_high</th>\n",
       "      <th>p99_low</th>\n",
       "    </tr>\n",
       "  </thead>\n",
       "  <tbody>\n",
       "    <tr>\n",
       "      <th>timestamp</th>\n",
       "      <td>0.10792</td>\n",
       "      <td>0.009151</td>\n",
       "      <td>0.000006</td>\n",
       "      <td>5</td>\n",
       "      <td>0.126761</td>\n",
       "      <td>0.089079</td>\n",
       "    </tr>\n",
       "    <tr>\n",
       "      <th>attackDamage</th>\n",
       "      <td>0.07088</td>\n",
       "      <td>0.005784</td>\n",
       "      <td>0.000005</td>\n",
       "      <td>5</td>\n",
       "      <td>0.082789</td>\n",
       "      <td>0.058971</td>\n",
       "    </tr>\n",
       "    <tr>\n",
       "      <th>armor</th>\n",
       "      <td>0.06032</td>\n",
       "      <td>0.003372</td>\n",
       "      <td>0.000001</td>\n",
       "      <td>5</td>\n",
       "      <td>0.067263</td>\n",
       "      <td>0.053377</td>\n",
       "    </tr>\n",
       "    <tr>\n",
       "      <th>abilityPower</th>\n",
       "      <td>0.05764</td>\n",
       "      <td>0.005903</td>\n",
       "      <td>0.000013</td>\n",
       "      <td>5</td>\n",
       "      <td>0.069795</td>\n",
       "      <td>0.045485</td>\n",
       "    </tr>\n",
       "    <tr>\n",
       "      <th>attackSpeed</th>\n",
       "      <td>0.04620</td>\n",
       "      <td>0.009212</td>\n",
       "      <td>0.000180</td>\n",
       "      <td>5</td>\n",
       "      <td>0.065168</td>\n",
       "      <td>0.027232</td>\n",
       "    </tr>\n",
       "    <tr>\n",
       "      <th>maxHealth</th>\n",
       "      <td>0.04140</td>\n",
       "      <td>0.007214</td>\n",
       "      <td>0.000106</td>\n",
       "      <td>5</td>\n",
       "      <td>0.056253</td>\n",
       "      <td>0.026547</td>\n",
       "    </tr>\n",
       "    <tr>\n",
       "      <th>resourceMax</th>\n",
       "      <td>0.04052</td>\n",
       "      <td>0.004120</td>\n",
       "      <td>0.000013</td>\n",
       "      <td>5</td>\n",
       "      <td>0.049003</td>\n",
       "      <td>0.032037</td>\n",
       "    </tr>\n",
       "    <tr>\n",
       "      <th>resourceRegenRate</th>\n",
       "      <td>0.03640</td>\n",
       "      <td>0.006107</td>\n",
       "      <td>0.000092</td>\n",
       "      <td>5</td>\n",
       "      <td>0.048975</td>\n",
       "      <td>0.023825</td>\n",
       "    </tr>\n",
       "    <tr>\n",
       "      <th>magicResist</th>\n",
       "      <td>0.03188</td>\n",
       "      <td>0.007281</td>\n",
       "      <td>0.000305</td>\n",
       "      <td>5</td>\n",
       "      <td>0.046872</td>\n",
       "      <td>0.016888</td>\n",
       "    </tr>\n",
       "    <tr>\n",
       "      <th>lifeSteal</th>\n",
       "      <td>0.03020</td>\n",
       "      <td>0.004320</td>\n",
       "      <td>0.000049</td>\n",
       "      <td>5</td>\n",
       "      <td>0.039094</td>\n",
       "      <td>0.021306</td>\n",
       "    </tr>\n",
       "    <tr>\n",
       "      <th>healthRegenRate</th>\n",
       "      <td>0.02712</td>\n",
       "      <td>0.005489</td>\n",
       "      <td>0.000191</td>\n",
       "      <td>5</td>\n",
       "      <td>0.038422</td>\n",
       "      <td>0.015818</td>\n",
       "    </tr>\n",
       "    <tr>\n",
       "      <th>moveSpeed</th>\n",
       "      <td>0.02180</td>\n",
       "      <td>0.004962</td>\n",
       "      <td>0.000301</td>\n",
       "      <td>5</td>\n",
       "      <td>0.032017</td>\n",
       "      <td>0.011583</td>\n",
       "    </tr>\n",
       "    <tr>\n",
       "      <th>currentGold</th>\n",
       "      <td>0.02140</td>\n",
       "      <td>0.007109</td>\n",
       "      <td>0.001269</td>\n",
       "      <td>5</td>\n",
       "      <td>0.036038</td>\n",
       "      <td>0.006762</td>\n",
       "    </tr>\n",
       "    <tr>\n",
       "      <th>magicPenetrationFlat</th>\n",
       "      <td>0.01392</td>\n",
       "      <td>0.004440</td>\n",
       "      <td>0.001090</td>\n",
       "      <td>5</td>\n",
       "      <td>0.023062</td>\n",
       "      <td>0.004778</td>\n",
       "    </tr>\n",
       "    <tr>\n",
       "      <th>resourceValue</th>\n",
       "      <td>0.01296</td>\n",
       "      <td>0.005478</td>\n",
       "      <td>0.003064</td>\n",
       "      <td>5</td>\n",
       "      <td>0.024239</td>\n",
       "      <td>0.001681</td>\n",
       "    </tr>\n",
       "    <tr>\n",
       "      <th>currentHealth</th>\n",
       "      <td>0.01172</td>\n",
       "      <td>0.003773</td>\n",
       "      <td>0.001128</td>\n",
       "      <td>5</td>\n",
       "      <td>0.019488</td>\n",
       "      <td>0.003952</td>\n",
       "    </tr>\n",
       "    <tr>\n",
       "      <th>armorPenetrationPercent</th>\n",
       "      <td>0.00544</td>\n",
       "      <td>0.001459</td>\n",
       "      <td>0.000565</td>\n",
       "      <td>5</td>\n",
       "      <td>0.008444</td>\n",
       "      <td>0.002436</td>\n",
       "    </tr>\n",
       "    <tr>\n",
       "      <th>omnivamp</th>\n",
       "      <td>0.00304</td>\n",
       "      <td>0.000899</td>\n",
       "      <td>0.000819</td>\n",
       "      <td>5</td>\n",
       "      <td>0.004891</td>\n",
       "      <td>0.001189</td>\n",
       "    </tr>\n",
       "    <tr>\n",
       "      <th>magicPenetrationPercent</th>\n",
       "      <td>0.00252</td>\n",
       "      <td>0.001045</td>\n",
       "      <td>0.002861</td>\n",
       "      <td>5</td>\n",
       "      <td>0.004672</td>\n",
       "      <td>0.000368</td>\n",
       "    </tr>\n",
       "    <tr>\n",
       "      <th>spellVamp</th>\n",
       "      <td>0.00012</td>\n",
       "      <td>0.000303</td>\n",
       "      <td>0.213159</td>\n",
       "      <td>5</td>\n",
       "      <td>0.000745</td>\n",
       "      <td>-0.000505</td>\n",
       "    </tr>\n",
       "  </tbody>\n",
       "</table>\n",
       "</div>"
      ],
      "text/plain": [
       "                         importance    stddev   p_value  n  p99_high   p99_low\n",
       "timestamp                   0.10792  0.009151  0.000006  5  0.126761  0.089079\n",
       "attackDamage                0.07088  0.005784  0.000005  5  0.082789  0.058971\n",
       "armor                       0.06032  0.003372  0.000001  5  0.067263  0.053377\n",
       "abilityPower                0.05764  0.005903  0.000013  5  0.069795  0.045485\n",
       "attackSpeed                 0.04620  0.009212  0.000180  5  0.065168  0.027232\n",
       "maxHealth                   0.04140  0.007214  0.000106  5  0.056253  0.026547\n",
       "resourceMax                 0.04052  0.004120  0.000013  5  0.049003  0.032037\n",
       "resourceRegenRate           0.03640  0.006107  0.000092  5  0.048975  0.023825\n",
       "magicResist                 0.03188  0.007281  0.000305  5  0.046872  0.016888\n",
       "lifeSteal                   0.03020  0.004320  0.000049  5  0.039094  0.021306\n",
       "healthRegenRate             0.02712  0.005489  0.000191  5  0.038422  0.015818\n",
       "moveSpeed                   0.02180  0.004962  0.000301  5  0.032017  0.011583\n",
       "currentGold                 0.02140  0.007109  0.001269  5  0.036038  0.006762\n",
       "magicPenetrationFlat        0.01392  0.004440  0.001090  5  0.023062  0.004778\n",
       "resourceValue               0.01296  0.005478  0.003064  5  0.024239  0.001681\n",
       "currentHealth               0.01172  0.003773  0.001128  5  0.019488  0.003952\n",
       "armorPenetrationPercent     0.00544  0.001459  0.000565  5  0.008444  0.002436\n",
       "omnivamp                    0.00304  0.000899  0.000819  5  0.004891  0.001189\n",
       "magicPenetrationPercent     0.00252  0.001045  0.002861  5  0.004672  0.000368\n",
       "spellVamp                   0.00012  0.000303  0.213159  5  0.000745 -0.000505"
      ]
     },
     "execution_count": 15,
     "metadata": {},
     "output_type": "execute_result"
    }
   ],
   "source": [
    "predictor.feature_importance(test)"
   ]
  },
  {
   "cell_type": "code",
   "execution_count": 16,
   "metadata": {},
   "outputs": [
    {
     "data": {
      "text/html": [
       "<div>\n",
       "<style scoped>\n",
       "    .dataframe tbody tr th:only-of-type {\n",
       "        vertical-align: middle;\n",
       "    }\n",
       "\n",
       "    .dataframe tbody tr th {\n",
       "        vertical-align: top;\n",
       "    }\n",
       "\n",
       "    .dataframe thead th {\n",
       "        text-align: right;\n",
       "    }\n",
       "</style>\n",
       "<table border=\"1\" class=\"dataframe\">\n",
       "  <thead>\n",
       "    <tr style=\"text-align: right;\">\n",
       "      <th></th>\n",
       "      <th>model</th>\n",
       "      <th>score_test</th>\n",
       "      <th>score_val</th>\n",
       "      <th>eval_metric</th>\n",
       "      <th>pred_time_test</th>\n",
       "      <th>pred_time_val</th>\n",
       "      <th>fit_time</th>\n",
       "      <th>pred_time_test_marginal</th>\n",
       "      <th>pred_time_val_marginal</th>\n",
       "      <th>fit_time_marginal</th>\n",
       "      <th>stack_level</th>\n",
       "      <th>can_infer</th>\n",
       "      <th>fit_order</th>\n",
       "    </tr>\n",
       "  </thead>\n",
       "  <tbody>\n",
       "    <tr>\n",
       "      <th>0</th>\n",
       "      <td>WeightedEnsemble_L2</td>\n",
       "      <td>0.672928</td>\n",
       "      <td>0.6744</td>\n",
       "      <td>accuracy</td>\n",
       "      <td>3.815415</td>\n",
       "      <td>0.483817</td>\n",
       "      <td>776.433491</td>\n",
       "      <td>0.007008</td>\n",
       "      <td>0.001375</td>\n",
       "      <td>0.169581</td>\n",
       "      <td>2</td>\n",
       "      <td>True</td>\n",
       "      <td>14</td>\n",
       "    </tr>\n",
       "    <tr>\n",
       "      <th>1</th>\n",
       "      <td>NeuralNetTorch</td>\n",
       "      <td>0.656939</td>\n",
       "      <td>0.6540</td>\n",
       "      <td>accuracy</td>\n",
       "      <td>0.165134</td>\n",
       "      <td>0.032017</td>\n",
       "      <td>617.601583</td>\n",
       "      <td>0.165134</td>\n",
       "      <td>0.032017</td>\n",
       "      <td>617.601583</td>\n",
       "      <td>1</td>\n",
       "      <td>True</td>\n",
       "      <td>12</td>\n",
       "    </tr>\n",
       "    <tr>\n",
       "      <th>2</th>\n",
       "      <td>RandomForestEntr</td>\n",
       "      <td>0.654648</td>\n",
       "      <td>0.6544</td>\n",
       "      <td>accuracy</td>\n",
       "      <td>0.993474</td>\n",
       "      <td>0.109767</td>\n",
       "      <td>19.106348</td>\n",
       "      <td>0.993474</td>\n",
       "      <td>0.109767</td>\n",
       "      <td>19.106348</td>\n",
       "      <td>1</td>\n",
       "      <td>True</td>\n",
       "      <td>6</td>\n",
       "    </tr>\n",
       "    <tr>\n",
       "      <th>3</th>\n",
       "      <td>RandomForestGini</td>\n",
       "      <td>0.654373</td>\n",
       "      <td>0.6504</td>\n",
       "      <td>accuracy</td>\n",
       "      <td>0.986758</td>\n",
       "      <td>0.124058</td>\n",
       "      <td>16.102852</td>\n",
       "      <td>0.986758</td>\n",
       "      <td>0.124058</td>\n",
       "      <td>16.102852</td>\n",
       "      <td>1</td>\n",
       "      <td>True</td>\n",
       "      <td>5</td>\n",
       "    </tr>\n",
       "    <tr>\n",
       "      <th>4</th>\n",
       "      <td>ExtraTreesGini</td>\n",
       "      <td>0.649792</td>\n",
       "      <td>0.6492</td>\n",
       "      <td>accuracy</td>\n",
       "      <td>1.015718</td>\n",
       "      <td>0.123984</td>\n",
       "      <td>9.495289</td>\n",
       "      <td>1.015718</td>\n",
       "      <td>0.123984</td>\n",
       "      <td>9.495289</td>\n",
       "      <td>1</td>\n",
       "      <td>True</td>\n",
       "      <td>8</td>\n",
       "    </tr>\n",
       "    <tr>\n",
       "      <th>5</th>\n",
       "      <td>ExtraTreesEntr</td>\n",
       "      <td>0.649654</td>\n",
       "      <td>0.6504</td>\n",
       "      <td>accuracy</td>\n",
       "      <td>0.996067</td>\n",
       "      <td>0.131456</td>\n",
       "      <td>9.499874</td>\n",
       "      <td>0.996067</td>\n",
       "      <td>0.131456</td>\n",
       "      <td>9.499874</td>\n",
       "      <td>1</td>\n",
       "      <td>True</td>\n",
       "      <td>9</td>\n",
       "    </tr>\n",
       "    <tr>\n",
       "      <th>6</th>\n",
       "      <td>LightGBMLarge</td>\n",
       "      <td>0.648600</td>\n",
       "      <td>0.6580</td>\n",
       "      <td>accuracy</td>\n",
       "      <td>0.128923</td>\n",
       "      <td>0.015476</td>\n",
       "      <td>3.686376</td>\n",
       "      <td>0.128923</td>\n",
       "      <td>0.015476</td>\n",
       "      <td>3.686376</td>\n",
       "      <td>1</td>\n",
       "      <td>True</td>\n",
       "      <td>13</td>\n",
       "    </tr>\n",
       "    <tr>\n",
       "      <th>7</th>\n",
       "      <td>XGBoost</td>\n",
       "      <td>0.630549</td>\n",
       "      <td>0.6412</td>\n",
       "      <td>accuracy</td>\n",
       "      <td>0.066727</td>\n",
       "      <td>0.009070</td>\n",
       "      <td>1.877229</td>\n",
       "      <td>0.066727</td>\n",
       "      <td>0.009070</td>\n",
       "      <td>1.877229</td>\n",
       "      <td>1</td>\n",
       "      <td>True</td>\n",
       "      <td>11</td>\n",
       "    </tr>\n",
       "    <tr>\n",
       "      <th>8</th>\n",
       "      <td>LightGBM</td>\n",
       "      <td>0.626884</td>\n",
       "      <td>0.6348</td>\n",
       "      <td>accuracy</td>\n",
       "      <td>0.055036</td>\n",
       "      <td>0.008677</td>\n",
       "      <td>1.665848</td>\n",
       "      <td>0.055036</td>\n",
       "      <td>0.008677</td>\n",
       "      <td>1.665848</td>\n",
       "      <td>1</td>\n",
       "      <td>True</td>\n",
       "      <td>4</td>\n",
       "    </tr>\n",
       "    <tr>\n",
       "      <th>9</th>\n",
       "      <td>CatBoost</td>\n",
       "      <td>0.624777</td>\n",
       "      <td>0.6336</td>\n",
       "      <td>accuracy</td>\n",
       "      <td>0.081205</td>\n",
       "      <td>0.004517</td>\n",
       "      <td>17.506467</td>\n",
       "      <td>0.081205</td>\n",
       "      <td>0.004517</td>\n",
       "      <td>17.506467</td>\n",
       "      <td>1</td>\n",
       "      <td>True</td>\n",
       "      <td>7</td>\n",
       "    </tr>\n",
       "    <tr>\n",
       "      <th>10</th>\n",
       "      <td>NeuralNetFastAI</td>\n",
       "      <td>0.623815</td>\n",
       "      <td>0.6264</td>\n",
       "      <td>accuracy</td>\n",
       "      <td>0.416287</td>\n",
       "      <td>0.051919</td>\n",
       "      <td>106.723802</td>\n",
       "      <td>0.416287</td>\n",
       "      <td>0.051919</td>\n",
       "      <td>106.723802</td>\n",
       "      <td>1</td>\n",
       "      <td>True</td>\n",
       "      <td>10</td>\n",
       "    </tr>\n",
       "    <tr>\n",
       "      <th>11</th>\n",
       "      <td>LightGBMXT</td>\n",
       "      <td>0.593164</td>\n",
       "      <td>0.6064</td>\n",
       "      <td>accuracy</td>\n",
       "      <td>0.037845</td>\n",
       "      <td>0.007098</td>\n",
       "      <td>2.927576</td>\n",
       "      <td>0.037845</td>\n",
       "      <td>0.007098</td>\n",
       "      <td>2.927576</td>\n",
       "      <td>1</td>\n",
       "      <td>True</td>\n",
       "      <td>3</td>\n",
       "    </tr>\n",
       "    <tr>\n",
       "      <th>12</th>\n",
       "      <td>KNeighborsUnif</td>\n",
       "      <td>0.515966</td>\n",
       "      <td>0.5136</td>\n",
       "      <td>accuracy</td>\n",
       "      <td>0.606969</td>\n",
       "      <td>0.118955</td>\n",
       "      <td>6.396120</td>\n",
       "      <td>0.606969</td>\n",
       "      <td>0.118955</td>\n",
       "      <td>6.396120</td>\n",
       "      <td>1</td>\n",
       "      <td>True</td>\n",
       "      <td>1</td>\n",
       "    </tr>\n",
       "    <tr>\n",
       "      <th>13</th>\n",
       "      <td>KNeighborsDist</td>\n",
       "      <td>0.513538</td>\n",
       "      <td>0.5144</td>\n",
       "      <td>accuracy</td>\n",
       "      <td>0.568601</td>\n",
       "      <td>0.071094</td>\n",
       "      <td>0.053011</td>\n",
       "      <td>0.568601</td>\n",
       "      <td>0.071094</td>\n",
       "      <td>0.053011</td>\n",
       "      <td>1</td>\n",
       "      <td>True</td>\n",
       "      <td>2</td>\n",
       "    </tr>\n",
       "  </tbody>\n",
       "</table>\n",
       "</div>"
      ],
      "text/plain": [
       "                  model  score_test  score_val eval_metric  pred_time_test  \\\n",
       "0   WeightedEnsemble_L2    0.672928     0.6744    accuracy        3.815415   \n",
       "1        NeuralNetTorch    0.656939     0.6540    accuracy        0.165134   \n",
       "2      RandomForestEntr    0.654648     0.6544    accuracy        0.993474   \n",
       "3      RandomForestGini    0.654373     0.6504    accuracy        0.986758   \n",
       "4        ExtraTreesGini    0.649792     0.6492    accuracy        1.015718   \n",
       "5        ExtraTreesEntr    0.649654     0.6504    accuracy        0.996067   \n",
       "6         LightGBMLarge    0.648600     0.6580    accuracy        0.128923   \n",
       "7               XGBoost    0.630549     0.6412    accuracy        0.066727   \n",
       "8              LightGBM    0.626884     0.6348    accuracy        0.055036   \n",
       "9              CatBoost    0.624777     0.6336    accuracy        0.081205   \n",
       "10      NeuralNetFastAI    0.623815     0.6264    accuracy        0.416287   \n",
       "11           LightGBMXT    0.593164     0.6064    accuracy        0.037845   \n",
       "12       KNeighborsUnif    0.515966     0.5136    accuracy        0.606969   \n",
       "13       KNeighborsDist    0.513538     0.5144    accuracy        0.568601   \n",
       "\n",
       "    pred_time_val    fit_time  pred_time_test_marginal  \\\n",
       "0        0.483817  776.433491                 0.007008   \n",
       "1        0.032017  617.601583                 0.165134   \n",
       "2        0.109767   19.106348                 0.993474   \n",
       "3        0.124058   16.102852                 0.986758   \n",
       "4        0.123984    9.495289                 1.015718   \n",
       "5        0.131456    9.499874                 0.996067   \n",
       "6        0.015476    3.686376                 0.128923   \n",
       "7        0.009070    1.877229                 0.066727   \n",
       "8        0.008677    1.665848                 0.055036   \n",
       "9        0.004517   17.506467                 0.081205   \n",
       "10       0.051919  106.723802                 0.416287   \n",
       "11       0.007098    2.927576                 0.037845   \n",
       "12       0.118955    6.396120                 0.606969   \n",
       "13       0.071094    0.053011                 0.568601   \n",
       "\n",
       "    pred_time_val_marginal  fit_time_marginal  stack_level  can_infer  \\\n",
       "0                 0.001375           0.169581            2       True   \n",
       "1                 0.032017         617.601583            1       True   \n",
       "2                 0.109767          19.106348            1       True   \n",
       "3                 0.124058          16.102852            1       True   \n",
       "4                 0.123984           9.495289            1       True   \n",
       "5                 0.131456           9.499874            1       True   \n",
       "6                 0.015476           3.686376            1       True   \n",
       "7                 0.009070           1.877229            1       True   \n",
       "8                 0.008677           1.665848            1       True   \n",
       "9                 0.004517          17.506467            1       True   \n",
       "10                0.051919         106.723802            1       True   \n",
       "11                0.007098           2.927576            1       True   \n",
       "12                0.118955           6.396120            1       True   \n",
       "13                0.071094           0.053011            1       True   \n",
       "\n",
       "    fit_order  \n",
       "0          14  \n",
       "1          12  \n",
       "2           6  \n",
       "3           5  \n",
       "4           8  \n",
       "5           9  \n",
       "6          13  \n",
       "7          11  \n",
       "8           4  \n",
       "9           7  \n",
       "10         10  \n",
       "11          3  \n",
       "12          1  \n",
       "13          2  "
      ]
     },
     "execution_count": 16,
     "metadata": {},
     "output_type": "execute_result"
    }
   ],
   "source": [
    "predictor.leaderboard(test, silent=True)"
   ]
  },
  {
   "cell_type": "code",
   "execution_count": 2,
   "metadata": {},
   "outputs": [],
   "source": [
    "def process_and_predict(input, predictor):\n",
    "    team = \"\"\n",
    "    for x in input['allPlayers']:\n",
    "        if x['team'] == \"ORDER\":\n",
    "            team = \"blue\"\n",
    "        else:\n",
    "            team = \"red\"\n",
    "        \n",
    "        print(f\"Team {team}: {x['championName']}\")\n",
    "    \n",
    "    timestamp = int(input['gameData']['gameTime'] * 1000)\n",
    "\n",
    "    data = [\n",
    "        timestamp,\n",
    "        input['activePlayer'][\"currentGold\"],\n",
    "        input['activePlayer']['championStats'][\"abilityHaste\"],\n",
    "        input['activePlayer']['championStats'][\"abilityPower\"],\n",
    "        input['activePlayer']['championStats'][\"armor\"],\n",
    "        input['activePlayer']['championStats'][\"armorPenetrationFlat\"],\n",
    "        input['activePlayer']['championStats'][\"armorPenetrationPercent\"],\n",
    "        input['activePlayer']['championStats'][\"attackDamage\"],\n",
    "        input['activePlayer']['championStats'][\"attackSpeed\"],\n",
    "        input['activePlayer']['championStats'][\"bonusArmorPenetrationPercent\"],\n",
    "        input['activePlayer']['championStats'][\"bonusMagicPenetrationPercent\"],\n",
    "        input['activePlayer']['championStats'][\"currentHealth\"],\n",
    "        input['activePlayer']['championStats'][\"healthRegenRate\"],\n",
    "        input['activePlayer']['championStats'][\"lifeSteal\"],\n",
    "        input['activePlayer']['championStats'][\"magicPenetrationFlat\"],\n",
    "        input['activePlayer']['championStats'][\"magicPenetrationPercent\"],\n",
    "        input['activePlayer']['championStats'][\"magicResist\"],\n",
    "        input['activePlayer']['championStats'][\"maxHealth\"],\n",
    "        input['activePlayer']['championStats'][\"moveSpeed\"],\n",
    "        input['activePlayer']['championStats'][\"omnivamp\"],\n",
    "        input['activePlayer']['championStats'][\"physicalVamp\"],\n",
    "        input['activePlayer']['championStats'][\"resourceMax\"],\n",
    "        input['activePlayer']['championStats'][\"resourceRegenRate\"],\n",
    "        input['activePlayer']['championStats']['resourceValue'],\n",
    "        input['activePlayer']['championStats']['spellVamp'],\n",
    "    ]\n",
    "\n",
    "    sample_df = pd.DataFrame([data], columns=['timestamp', 'currentGold', 'abilityHaste', 'abilityPower', 'armor', 'armorPenetrationFlat', 'armorPenetrationPercent', 'attackDamage', 'attackSpeed', 'bonusArmorPenetrationPercent', 'bonusMagicPenetrationPercent', 'currentHealth', 'healthRegenRate', 'lifeSteal', 'magicPenetrationFlat', 'magicPenetrationPercent', 'magicResist', 'maxHealth', 'moveSpeed', 'omnivamp', 'physicalVamp', 'resourceMax', 'resourceRegenRate', 'resourceValue', 'spellVamp'])\n",
    "    sample_df = sample_df.drop(columns=['armorPenetrationFlat', 'bonusArmorPenetrationPercent', 'bonusMagicPenetrationPercent'])\n",
    "    sample_df = TabularDataset(sample_df)\n",
    "\n",
    "    prediction = predictor.predict(sample_df)\n",
    "    pred_probs = predictor.predict_proba(sample_df)\n",
    "\n",
    "    expected_result = prediction.get(0)\n",
    "    if expected_result == 0:\n",
    "        print(f'Expected LOSS, {pred_probs.iloc[0][0] * 100}% probable')\n",
    "    else:\n",
    "        print(f'Expected WIN, {pred_probs.iloc[0][1] * 100}% probable')\n",
    "    \n",
    "    print(f'Win/loss probability: {pred_probs.iloc[0][1] * 100}%/{pred_probs.iloc[0][0] * 100}%')"
   ]
  },
  {
   "cell_type": "code",
   "execution_count": 3,
   "metadata": {},
   "outputs": [
    {
     "name": "stderr",
     "output_type": "stream",
     "text": [
      "c:\\ProgramData\\anaconda3\\Lib\\site-packages\\urllib3\\connectionpool.py:1061: InsecureRequestWarning: Unverified HTTPS request is being made to host '127.0.0.1'. Adding certificate verification is strongly advised. See: https://urllib3.readthedocs.io/en/1.26.x/advanced-usage.html#ssl-warnings\n",
      "  warnings.warn(\n"
     ]
    },
    {
     "name": "stdout",
     "output_type": "stream",
     "text": [
      "Team blue: Aatrox\n",
      "Team blue: Dr. Mundo\n",
      "Team blue: Shen\n",
      "Team blue: Zilean\n",
      "Team blue: Annie\n",
      "Team red: Ngộ Không\n",
      "Team red: Brand\n",
      "Team red: Rammus\n",
      "Team red: Alistar\n",
      "Team red: Graves\n",
      "Expected WIN, 56.996870040893555% probable\n",
      "Win/loss probability: 56.996870040893555%/43.003129959106445%\n"
     ]
    },
    {
     "name": "stderr",
     "output_type": "stream",
     "text": [
      "c:\\ProgramData\\anaconda3\\Lib\\site-packages\\urllib3\\connectionpool.py:1061: InsecureRequestWarning: Unverified HTTPS request is being made to host '127.0.0.1'. Adding certificate verification is strongly advised. See: https://urllib3.readthedocs.io/en/1.26.x/advanced-usage.html#ssl-warnings\n",
      "  warnings.warn(\n"
     ]
    },
    {
     "name": "stdout",
     "output_type": "stream",
     "text": [
      "Team blue: Aatrox\n",
      "Team blue: Dr. Mundo\n",
      "Team blue: Shen\n",
      "Team blue: Zilean\n",
      "Team blue: Annie\n",
      "Team red: Ngộ Không\n",
      "Team red: Brand\n",
      "Team red: Rammus\n",
      "Team red: Alistar\n",
      "Team red: Graves\n",
      "Expected WIN, 56.076836585998535% probable\n",
      "Win/loss probability: 56.076836585998535%/43.923163414001465%\n"
     ]
    },
    {
     "name": "stderr",
     "output_type": "stream",
     "text": [
      "c:\\ProgramData\\anaconda3\\Lib\\site-packages\\urllib3\\connectionpool.py:1061: InsecureRequestWarning: Unverified HTTPS request is being made to host '127.0.0.1'. Adding certificate verification is strongly advised. See: https://urllib3.readthedocs.io/en/1.26.x/advanced-usage.html#ssl-warnings\n",
      "  warnings.warn(\n"
     ]
    },
    {
     "name": "stdout",
     "output_type": "stream",
     "text": [
      "Team blue: Aatrox\n",
      "Team blue: Dr. Mundo\n",
      "Team blue: Shen\n",
      "Team blue: Zilean\n",
      "Team blue: Annie\n",
      "Team red: Ngộ Không\n",
      "Team red: Brand\n",
      "Team red: Rammus\n",
      "Team red: Alistar\n",
      "Team red: Graves\n",
      "Expected LOSS, 50.12441873550415% probable\n",
      "Win/loss probability: 49.87558126449585%/50.12441873550415%\n"
     ]
    },
    {
     "name": "stderr",
     "output_type": "stream",
     "text": [
      "c:\\ProgramData\\anaconda3\\Lib\\site-packages\\urllib3\\connectionpool.py:1061: InsecureRequestWarning: Unverified HTTPS request is being made to host '127.0.0.1'. Adding certificate verification is strongly advised. See: https://urllib3.readthedocs.io/en/1.26.x/advanced-usage.html#ssl-warnings\n",
      "  warnings.warn(\n"
     ]
    },
    {
     "name": "stdout",
     "output_type": "stream",
     "text": [
      "Team blue: Aatrox\n",
      "Team blue: Dr. Mundo\n",
      "Team blue: Shen\n",
      "Team blue: Zilean\n",
      "Team blue: Annie\n",
      "Team red: Ngộ Không\n",
      "Team red: Brand\n",
      "Team red: Rammus\n",
      "Team red: Alistar\n",
      "Team red: Graves\n",
      "Expected LOSS, 50.7258415222168% probable\n",
      "Win/loss probability: 49.2741584777832%/50.7258415222168%\n"
     ]
    },
    {
     "name": "stderr",
     "output_type": "stream",
     "text": [
      "c:\\ProgramData\\anaconda3\\Lib\\site-packages\\urllib3\\connectionpool.py:1061: InsecureRequestWarning: Unverified HTTPS request is being made to host '127.0.0.1'. Adding certificate verification is strongly advised. See: https://urllib3.readthedocs.io/en/1.26.x/advanced-usage.html#ssl-warnings\n",
      "  warnings.warn(\n"
     ]
    },
    {
     "name": "stdout",
     "output_type": "stream",
     "text": [
      "Team blue: Aatrox\n",
      "Team blue: Dr. Mundo\n",
      "Team blue: Shen\n",
      "Team blue: Zilean\n",
      "Team blue: Annie\n",
      "Team red: Ngộ Không\n",
      "Team red: Brand\n",
      "Team red: Rammus\n",
      "Team red: Alistar\n",
      "Team red: Graves\n",
      "Expected LOSS, 50.98072290420532% probable\n",
      "Win/loss probability: 49.01927411556244%/50.98072290420532%\n"
     ]
    },
    {
     "name": "stderr",
     "output_type": "stream",
     "text": [
      "c:\\ProgramData\\anaconda3\\Lib\\site-packages\\urllib3\\connectionpool.py:1061: InsecureRequestWarning: Unverified HTTPS request is being made to host '127.0.0.1'. Adding certificate verification is strongly advised. See: https://urllib3.readthedocs.io/en/1.26.x/advanced-usage.html#ssl-warnings\n",
      "  warnings.warn(\n"
     ]
    },
    {
     "name": "stdout",
     "output_type": "stream",
     "text": [
      "Team blue: Aatrox\n",
      "Team blue: Dr. Mundo\n",
      "Team blue: Shen\n",
      "Team blue: Zilean\n",
      "Team blue: Annie\n",
      "Team red: Ngộ Không\n",
      "Team red: Brand\n",
      "Team red: Rammus\n",
      "Team red: Alistar\n",
      "Team red: Graves\n",
      "Expected LOSS, 51.269567012786865% probable\n",
      "Win/loss probability: 48.73043596744537%/51.269567012786865%\n"
     ]
    },
    {
     "name": "stderr",
     "output_type": "stream",
     "text": [
      "c:\\ProgramData\\anaconda3\\Lib\\site-packages\\urllib3\\connectionpool.py:1061: InsecureRequestWarning: Unverified HTTPS request is being made to host '127.0.0.1'. Adding certificate verification is strongly advised. See: https://urllib3.readthedocs.io/en/1.26.x/advanced-usage.html#ssl-warnings\n",
      "  warnings.warn(\n"
     ]
    },
    {
     "name": "stdout",
     "output_type": "stream",
     "text": [
      "Team blue: Aatrox\n",
      "Team blue: Dr. Mundo\n",
      "Team blue: Shen\n",
      "Team blue: Zilean\n",
      "Team blue: Annie\n",
      "Team red: Ngộ Không\n",
      "Team red: Brand\n",
      "Team red: Rammus\n",
      "Team red: Alistar\n",
      "Team red: Graves\n",
      "Expected LOSS, 51.57194137573242% probable\n",
      "Win/loss probability: 48.42805862426758%/51.57194137573242%\n"
     ]
    },
    {
     "name": "stderr",
     "output_type": "stream",
     "text": [
      "c:\\ProgramData\\anaconda3\\Lib\\site-packages\\urllib3\\connectionpool.py:1061: InsecureRequestWarning: Unverified HTTPS request is being made to host '127.0.0.1'. Adding certificate verification is strongly advised. See: https://urllib3.readthedocs.io/en/1.26.x/advanced-usage.html#ssl-warnings\n",
      "  warnings.warn(\n"
     ]
    },
    {
     "name": "stdout",
     "output_type": "stream",
     "text": [
      "Team blue: Aatrox\n",
      "Team blue: Dr. Mundo\n",
      "Team blue: Shen\n",
      "Team blue: Zilean\n",
      "Team blue: Annie\n",
      "Team red: Ngộ Không\n",
      "Team red: Brand\n",
      "Team red: Rammus\n",
      "Team red: Alistar\n",
      "Team red: Graves\n",
      "Expected LOSS, 51.71089768409729% probable\n",
      "Win/loss probability: 48.28910231590271%/51.71089768409729%\n"
     ]
    },
    {
     "name": "stderr",
     "output_type": "stream",
     "text": [
      "c:\\ProgramData\\anaconda3\\Lib\\site-packages\\urllib3\\connectionpool.py:1061: InsecureRequestWarning: Unverified HTTPS request is being made to host '127.0.0.1'. Adding certificate verification is strongly advised. See: https://urllib3.readthedocs.io/en/1.26.x/advanced-usage.html#ssl-warnings\n",
      "  warnings.warn(\n"
     ]
    },
    {
     "name": "stdout",
     "output_type": "stream",
     "text": [
      "Team blue: Aatrox\n",
      "Team blue: Dr. Mundo\n",
      "Team blue: Shen\n",
      "Team blue: Zilean\n",
      "Team blue: Annie\n",
      "Team red: Ngộ Không\n",
      "Team red: Brand\n",
      "Team red: Rammus\n",
      "Team red: Alistar\n",
      "Team red: Graves\n",
      "Expected WIN, 51.45184397697449% probable\n",
      "Win/loss probability: 51.45184397697449%/48.54815602302551%\n"
     ]
    },
    {
     "name": "stderr",
     "output_type": "stream",
     "text": [
      "c:\\ProgramData\\anaconda3\\Lib\\site-packages\\urllib3\\connectionpool.py:1061: InsecureRequestWarning: Unverified HTTPS request is being made to host '127.0.0.1'. Adding certificate verification is strongly advised. See: https://urllib3.readthedocs.io/en/1.26.x/advanced-usage.html#ssl-warnings\n",
      "  warnings.warn(\n"
     ]
    },
    {
     "name": "stdout",
     "output_type": "stream",
     "text": [
      "Team blue: Aatrox\n",
      "Team blue: Dr. Mundo\n",
      "Team blue: Shen\n",
      "Team blue: Zilean\n",
      "Team blue: Annie\n",
      "Team red: Ngộ Không\n",
      "Team red: Brand\n",
      "Team red: Rammus\n",
      "Team red: Alistar\n",
      "Team red: Graves\n",
      "Expected LOSS, 50.552356243133545% probable\n",
      "Win/loss probability: 49.447643756866455%/50.552356243133545%\n"
     ]
    },
    {
     "name": "stderr",
     "output_type": "stream",
     "text": [
      "c:\\ProgramData\\anaconda3\\Lib\\site-packages\\urllib3\\connectionpool.py:1061: InsecureRequestWarning: Unverified HTTPS request is being made to host '127.0.0.1'. Adding certificate verification is strongly advised. See: https://urllib3.readthedocs.io/en/1.26.x/advanced-usage.html#ssl-warnings\n",
      "  warnings.warn(\n"
     ]
    },
    {
     "name": "stdout",
     "output_type": "stream",
     "text": [
      "Team blue: Aatrox\n",
      "Team blue: Dr. Mundo\n",
      "Team blue: Shen\n",
      "Team blue: Zilean\n",
      "Team blue: Annie\n",
      "Team red: Ngộ Không\n",
      "Team red: Brand\n",
      "Team red: Rammus\n",
      "Team red: Alistar\n",
      "Team red: Graves\n",
      "Expected LOSS, 53.198498487472534% probable\n",
      "Win/loss probability: 46.801501512527466%/53.198498487472534%\n"
     ]
    },
    {
     "name": "stderr",
     "output_type": "stream",
     "text": [
      "c:\\ProgramData\\anaconda3\\Lib\\site-packages\\urllib3\\connectionpool.py:1061: InsecureRequestWarning: Unverified HTTPS request is being made to host '127.0.0.1'. Adding certificate verification is strongly advised. See: https://urllib3.readthedocs.io/en/1.26.x/advanced-usage.html#ssl-warnings\n",
      "  warnings.warn(\n"
     ]
    },
    {
     "name": "stdout",
     "output_type": "stream",
     "text": [
      "Team blue: Aatrox\n",
      "Team blue: Dr. Mundo\n",
      "Team blue: Shen\n",
      "Team blue: Zilean\n",
      "Team blue: Annie\n",
      "Team red: Ngộ Không\n",
      "Team red: Brand\n",
      "Team red: Rammus\n",
      "Team red: Alistar\n",
      "Team red: Graves\n",
      "Expected WIN, 53.40701341629028% probable\n",
      "Win/loss probability: 53.40701341629028%/46.59298658370972%\n"
     ]
    },
    {
     "name": "stderr",
     "output_type": "stream",
     "text": [
      "c:\\ProgramData\\anaconda3\\Lib\\site-packages\\urllib3\\connectionpool.py:1061: InsecureRequestWarning: Unverified HTTPS request is being made to host '127.0.0.1'. Adding certificate verification is strongly advised. See: https://urllib3.readthedocs.io/en/1.26.x/advanced-usage.html#ssl-warnings\n",
      "  warnings.warn(\n"
     ]
    },
    {
     "name": "stdout",
     "output_type": "stream",
     "text": [
      "Team blue: Aatrox\n",
      "Team blue: Dr. Mundo\n",
      "Team blue: Shen\n",
      "Team blue: Zilean\n",
      "Team blue: Annie\n",
      "Team red: Ngộ Không\n",
      "Team red: Brand\n",
      "Team red: Rammus\n",
      "Team red: Alistar\n",
      "Team red: Graves\n",
      "Expected WIN, 52.42737531661987% probable\n",
      "Win/loss probability: 52.42737531661987%/47.57262468338013%\n"
     ]
    },
    {
     "name": "stderr",
     "output_type": "stream",
     "text": [
      "c:\\ProgramData\\anaconda3\\Lib\\site-packages\\urllib3\\connectionpool.py:1061: InsecureRequestWarning: Unverified HTTPS request is being made to host '127.0.0.1'. Adding certificate verification is strongly advised. See: https://urllib3.readthedocs.io/en/1.26.x/advanced-usage.html#ssl-warnings\n",
      "  warnings.warn(\n"
     ]
    },
    {
     "name": "stdout",
     "output_type": "stream",
     "text": [
      "Team blue: Aatrox\n",
      "Team blue: Dr. Mundo\n",
      "Team blue: Shen\n",
      "Team blue: Zilean\n",
      "Team blue: Annie\n",
      "Team red: Ngộ Không\n",
      "Team red: Brand\n",
      "Team red: Rammus\n",
      "Team red: Alistar\n",
      "Team red: Graves\n",
      "Expected WIN, 51.90989971160889% probable\n",
      "Win/loss probability: 51.90989971160889%/48.09010028839111%\n"
     ]
    },
    {
     "name": "stderr",
     "output_type": "stream",
     "text": [
      "c:\\ProgramData\\anaconda3\\Lib\\site-packages\\urllib3\\connectionpool.py:1061: InsecureRequestWarning: Unverified HTTPS request is being made to host '127.0.0.1'. Adding certificate verification is strongly advised. See: https://urllib3.readthedocs.io/en/1.26.x/advanced-usage.html#ssl-warnings\n",
      "  warnings.warn(\n"
     ]
    },
    {
     "name": "stdout",
     "output_type": "stream",
     "text": [
      "Team blue: Aatrox\n",
      "Team blue: Dr. Mundo\n",
      "Team blue: Shen\n",
      "Team blue: Zilean\n",
      "Team blue: Annie\n",
      "Team red: Ngộ Không\n",
      "Team red: Brand\n",
      "Team red: Rammus\n",
      "Team red: Alistar\n",
      "Team red: Graves\n",
      "Expected LOSS, 55.105024576187134% probable\n",
      "Win/loss probability: 44.894975423812866%/55.105024576187134%\n"
     ]
    },
    {
     "name": "stderr",
     "output_type": "stream",
     "text": [
      "c:\\ProgramData\\anaconda3\\Lib\\site-packages\\urllib3\\connectionpool.py:1061: InsecureRequestWarning: Unverified HTTPS request is being made to host '127.0.0.1'. Adding certificate verification is strongly advised. See: https://urllib3.readthedocs.io/en/1.26.x/advanced-usage.html#ssl-warnings\n",
      "  warnings.warn(\n"
     ]
    },
    {
     "name": "stdout",
     "output_type": "stream",
     "text": [
      "Team blue: Aatrox\n",
      "Team blue: Dr. Mundo\n",
      "Team blue: Shen\n",
      "Team blue: Zilean\n",
      "Team blue: Annie\n",
      "Team red: Ngộ Không\n",
      "Team red: Brand\n",
      "Team red: Rammus\n",
      "Team red: Alistar\n",
      "Team red: Graves\n",
      "Expected LOSS, 55.48362731933594% probable\n",
      "Win/loss probability: 44.51637268066406%/55.48362731933594%\n"
     ]
    },
    {
     "name": "stderr",
     "output_type": "stream",
     "text": [
      "c:\\ProgramData\\anaconda3\\Lib\\site-packages\\urllib3\\connectionpool.py:1061: InsecureRequestWarning: Unverified HTTPS request is being made to host '127.0.0.1'. Adding certificate verification is strongly advised. See: https://urllib3.readthedocs.io/en/1.26.x/advanced-usage.html#ssl-warnings\n",
      "  warnings.warn(\n"
     ]
    },
    {
     "name": "stdout",
     "output_type": "stream",
     "text": [
      "Team blue: Aatrox\n",
      "Team blue: Dr. Mundo\n",
      "Team blue: Shen\n",
      "Team blue: Zilean\n",
      "Team blue: Annie\n",
      "Team red: Ngộ Không\n",
      "Team red: Brand\n",
      "Team red: Rammus\n",
      "Team red: Alistar\n",
      "Team red: Graves\n",
      "Expected LOSS, 55.49321174621582% probable\n",
      "Win/loss probability: 44.50679123401642%/55.49321174621582%\n"
     ]
    },
    {
     "name": "stderr",
     "output_type": "stream",
     "text": [
      "c:\\ProgramData\\anaconda3\\Lib\\site-packages\\urllib3\\connectionpool.py:1061: InsecureRequestWarning: Unverified HTTPS request is being made to host '127.0.0.1'. Adding certificate verification is strongly advised. See: https://urllib3.readthedocs.io/en/1.26.x/advanced-usage.html#ssl-warnings\n",
      "  warnings.warn(\n"
     ]
    },
    {
     "name": "stdout",
     "output_type": "stream",
     "text": [
      "Team blue: Aatrox\n",
      "Team blue: Dr. Mundo\n",
      "Team blue: Shen\n",
      "Team blue: Zilean\n",
      "Team blue: Annie\n",
      "Team red: Ngộ Không\n",
      "Team red: Brand\n",
      "Team red: Rammus\n",
      "Team red: Alistar\n",
      "Team red: Graves\n",
      "Expected LOSS, 53.37528586387634% probable\n",
      "Win/loss probability: 46.62471413612366%/53.37528586387634%\n"
     ]
    },
    {
     "name": "stderr",
     "output_type": "stream",
     "text": [
      "c:\\ProgramData\\anaconda3\\Lib\\site-packages\\urllib3\\connectionpool.py:1061: InsecureRequestWarning: Unverified HTTPS request is being made to host '127.0.0.1'. Adding certificate verification is strongly advised. See: https://urllib3.readthedocs.io/en/1.26.x/advanced-usage.html#ssl-warnings\n",
      "  warnings.warn(\n"
     ]
    },
    {
     "name": "stdout",
     "output_type": "stream",
     "text": [
      "Team blue: Aatrox\n",
      "Team blue: Dr. Mundo\n",
      "Team blue: Shen\n",
      "Team blue: Zilean\n",
      "Team blue: Annie\n",
      "Team red: Ngộ Không\n",
      "Team red: Brand\n",
      "Team red: Rammus\n",
      "Team red: Alistar\n",
      "Team red: Graves\n",
      "Expected LOSS, 55.15868067741394% probable\n",
      "Win/loss probability: 44.84131932258606%/55.15868067741394%\n"
     ]
    },
    {
     "name": "stderr",
     "output_type": "stream",
     "text": [
      "c:\\ProgramData\\anaconda3\\Lib\\site-packages\\urllib3\\connectionpool.py:1061: InsecureRequestWarning: Unverified HTTPS request is being made to host '127.0.0.1'. Adding certificate verification is strongly advised. See: https://urllib3.readthedocs.io/en/1.26.x/advanced-usage.html#ssl-warnings\n",
      "  warnings.warn(\n"
     ]
    },
    {
     "name": "stdout",
     "output_type": "stream",
     "text": [
      "Team blue: Aatrox\n",
      "Team blue: Dr. Mundo\n",
      "Team blue: Shen\n",
      "Team blue: Zilean\n",
      "Team blue: Annie\n",
      "Team red: Ngộ Không\n",
      "Team red: Brand\n",
      "Team red: Rammus\n",
      "Team red: Alistar\n",
      "Team red: Graves\n",
      "Expected LOSS, 52.069664001464844% probable\n",
      "Win/loss probability: 47.93033301830292%/52.069664001464844%\n"
     ]
    },
    {
     "name": "stderr",
     "output_type": "stream",
     "text": [
      "c:\\ProgramData\\anaconda3\\Lib\\site-packages\\urllib3\\connectionpool.py:1061: InsecureRequestWarning: Unverified HTTPS request is being made to host '127.0.0.1'. Adding certificate verification is strongly advised. See: https://urllib3.readthedocs.io/en/1.26.x/advanced-usage.html#ssl-warnings\n",
      "  warnings.warn(\n"
     ]
    },
    {
     "name": "stdout",
     "output_type": "stream",
     "text": [
      "Team blue: Aatrox\n",
      "Team blue: Dr. Mundo\n",
      "Team blue: Shen\n",
      "Team blue: Zilean\n",
      "Team blue: Annie\n",
      "Team red: Ngộ Không\n",
      "Team red: Brand\n",
      "Team red: Rammus\n",
      "Team red: Alistar\n",
      "Team red: Graves\n",
      "Expected LOSS, 63.691043853759766% probable\n",
      "Win/loss probability: 36.308956146240234%/63.691043853759766%\n"
     ]
    },
    {
     "name": "stderr",
     "output_type": "stream",
     "text": [
      "c:\\ProgramData\\anaconda3\\Lib\\site-packages\\urllib3\\connectionpool.py:1061: InsecureRequestWarning: Unverified HTTPS request is being made to host '127.0.0.1'. Adding certificate verification is strongly advised. See: https://urllib3.readthedocs.io/en/1.26.x/advanced-usage.html#ssl-warnings\n",
      "  warnings.warn(\n"
     ]
    },
    {
     "name": "stdout",
     "output_type": "stream",
     "text": [
      "Team blue: Aatrox\n",
      "Team blue: Dr. Mundo\n",
      "Team blue: Shen\n",
      "Team blue: Zilean\n",
      "Team blue: Annie\n",
      "Team red: Ngộ Không\n",
      "Team red: Brand\n",
      "Team red: Rammus\n",
      "Team red: Alistar\n",
      "Team red: Graves\n",
      "Expected LOSS, 53.137463331222534% probable\n",
      "Win/loss probability: 46.862536668777466%/53.137463331222534%\n"
     ]
    },
    {
     "name": "stderr",
     "output_type": "stream",
     "text": [
      "c:\\ProgramData\\anaconda3\\Lib\\site-packages\\urllib3\\connectionpool.py:1061: InsecureRequestWarning: Unverified HTTPS request is being made to host '127.0.0.1'. Adding certificate verification is strongly advised. See: https://urllib3.readthedocs.io/en/1.26.x/advanced-usage.html#ssl-warnings\n",
      "  warnings.warn(\n"
     ]
    },
    {
     "name": "stdout",
     "output_type": "stream",
     "text": [
      "Team blue: Aatrox\n",
      "Team blue: Dr. Mundo\n",
      "Team blue: Shen\n",
      "Team blue: Zilean\n",
      "Team blue: Annie\n",
      "Team red: Ngộ Không\n",
      "Team red: Brand\n",
      "Team red: Rammus\n",
      "Team red: Alistar\n",
      "Team red: Graves\n",
      "Expected WIN, 50.38582682609558% probable\n",
      "Win/loss probability: 50.38582682609558%/49.61417317390442%\n"
     ]
    },
    {
     "name": "stderr",
     "output_type": "stream",
     "text": [
      "c:\\ProgramData\\anaconda3\\Lib\\site-packages\\urllib3\\connectionpool.py:1061: InsecureRequestWarning: Unverified HTTPS request is being made to host '127.0.0.1'. Adding certificate verification is strongly advised. See: https://urllib3.readthedocs.io/en/1.26.x/advanced-usage.html#ssl-warnings\n",
      "  warnings.warn(\n"
     ]
    },
    {
     "name": "stdout",
     "output_type": "stream",
     "text": [
      "Team blue: Aatrox\n",
      "Team blue: Dr. Mundo\n",
      "Team blue: Shen\n",
      "Team blue: Zilean\n",
      "Team blue: Annie\n",
      "Team red: Ngộ Không\n",
      "Team red: Brand\n",
      "Team red: Rammus\n",
      "Team red: Alistar\n",
      "Team red: Graves\n",
      "Expected WIN, 51.19041204452515% probable\n",
      "Win/loss probability: 51.19041204452515%/48.80958795547485%\n"
     ]
    },
    {
     "name": "stderr",
     "output_type": "stream",
     "text": [
      "c:\\ProgramData\\anaconda3\\Lib\\site-packages\\urllib3\\connectionpool.py:1061: InsecureRequestWarning: Unverified HTTPS request is being made to host '127.0.0.1'. Adding certificate verification is strongly advised. See: https://urllib3.readthedocs.io/en/1.26.x/advanced-usage.html#ssl-warnings\n",
      "  warnings.warn(\n"
     ]
    },
    {
     "name": "stdout",
     "output_type": "stream",
     "text": [
      "Team blue: Aatrox\n",
      "Team blue: Dr. Mundo\n",
      "Team blue: Shen\n",
      "Team blue: Zilean\n",
      "Team blue: Annie\n",
      "Team red: Ngộ Không\n",
      "Team red: Brand\n",
      "Team red: Rammus\n",
      "Team red: Alistar\n",
      "Team red: Graves\n",
      "Expected WIN, 53.62933278083801% probable\n",
      "Win/loss probability: 53.62933278083801%/46.37066721916199%\n"
     ]
    },
    {
     "name": "stderr",
     "output_type": "stream",
     "text": [
      "c:\\ProgramData\\anaconda3\\Lib\\site-packages\\urllib3\\connectionpool.py:1061: InsecureRequestWarning: Unverified HTTPS request is being made to host '127.0.0.1'. Adding certificate verification is strongly advised. See: https://urllib3.readthedocs.io/en/1.26.x/advanced-usage.html#ssl-warnings\n",
      "  warnings.warn(\n"
     ]
    },
    {
     "name": "stdout",
     "output_type": "stream",
     "text": [
      "Team blue: Aatrox\n",
      "Team blue: Dr. Mundo\n",
      "Team blue: Shen\n",
      "Team blue: Zilean\n",
      "Team blue: Annie\n",
      "Team red: Ngộ Không\n",
      "Team red: Brand\n",
      "Team red: Rammus\n",
      "Team red: Alistar\n",
      "Team red: Graves\n",
      "Expected WIN, 56.27325773239136% probable\n",
      "Win/loss probability: 56.27325773239136%/43.72674226760864%\n"
     ]
    },
    {
     "name": "stderr",
     "output_type": "stream",
     "text": [
      "c:\\ProgramData\\anaconda3\\Lib\\site-packages\\urllib3\\connectionpool.py:1061: InsecureRequestWarning: Unverified HTTPS request is being made to host '127.0.0.1'. Adding certificate verification is strongly advised. See: https://urllib3.readthedocs.io/en/1.26.x/advanced-usage.html#ssl-warnings\n",
      "  warnings.warn(\n"
     ]
    },
    {
     "name": "stdout",
     "output_type": "stream",
     "text": [
      "Team blue: Aatrox\n",
      "Team blue: Dr. Mundo\n",
      "Team blue: Shen\n",
      "Team blue: Zilean\n",
      "Team blue: Annie\n",
      "Team red: Ngộ Không\n",
      "Team red: Brand\n",
      "Team red: Rammus\n",
      "Team red: Alistar\n",
      "Team red: Graves\n",
      "Expected WIN, 59.521329402923584% probable\n",
      "Win/loss probability: 59.521329402923584%/40.478670597076416%\n"
     ]
    },
    {
     "name": "stderr",
     "output_type": "stream",
     "text": [
      "c:\\ProgramData\\anaconda3\\Lib\\site-packages\\urllib3\\connectionpool.py:1061: InsecureRequestWarning: Unverified HTTPS request is being made to host '127.0.0.1'. Adding certificate verification is strongly advised. See: https://urllib3.readthedocs.io/en/1.26.x/advanced-usage.html#ssl-warnings\n",
      "  warnings.warn(\n"
     ]
    },
    {
     "name": "stdout",
     "output_type": "stream",
     "text": [
      "Team blue: Aatrox\n",
      "Team blue: Dr. Mundo\n",
      "Team blue: Shen\n",
      "Team blue: Zilean\n",
      "Team blue: Annie\n",
      "Team red: Ngộ Không\n",
      "Team red: Brand\n",
      "Team red: Rammus\n",
      "Team red: Alistar\n",
      "Team red: Graves\n",
      "Expected WIN, 60.9103262424469% probable\n",
      "Win/loss probability: 60.9103262424469%/39.0896737575531%\n"
     ]
    },
    {
     "name": "stderr",
     "output_type": "stream",
     "text": [
      "c:\\ProgramData\\anaconda3\\Lib\\site-packages\\urllib3\\connectionpool.py:1061: InsecureRequestWarning: Unverified HTTPS request is being made to host '127.0.0.1'. Adding certificate verification is strongly advised. See: https://urllib3.readthedocs.io/en/1.26.x/advanced-usage.html#ssl-warnings\n",
      "  warnings.warn(\n"
     ]
    },
    {
     "name": "stdout",
     "output_type": "stream",
     "text": [
      "Team blue: Aatrox\n",
      "Team blue: Dr. Mundo\n",
      "Team blue: Shen\n",
      "Team blue: Zilean\n",
      "Team blue: Annie\n",
      "Team red: Ngộ Không\n",
      "Team red: Brand\n",
      "Team red: Rammus\n",
      "Team red: Alistar\n",
      "Team red: Graves\n",
      "Expected WIN, 60.94009280204773% probable\n",
      "Win/loss probability: 60.94009280204773%/39.05990719795227%\n"
     ]
    },
    {
     "name": "stderr",
     "output_type": "stream",
     "text": [
      "c:\\ProgramData\\anaconda3\\Lib\\site-packages\\urllib3\\connectionpool.py:1061: InsecureRequestWarning: Unverified HTTPS request is being made to host '127.0.0.1'. Adding certificate verification is strongly advised. See: https://urllib3.readthedocs.io/en/1.26.x/advanced-usage.html#ssl-warnings\n",
      "  warnings.warn(\n"
     ]
    },
    {
     "name": "stdout",
     "output_type": "stream",
     "text": [
      "Team blue: Aatrox\n",
      "Team blue: Dr. Mundo\n",
      "Team blue: Shen\n",
      "Team blue: Zilean\n",
      "Team blue: Annie\n",
      "Team red: Ngộ Không\n",
      "Team red: Brand\n",
      "Team red: Rammus\n",
      "Team red: Alistar\n",
      "Team red: Graves\n",
      "Expected WIN, 62.35611438751221% probable\n",
      "Win/loss probability: 62.35611438751221%/37.64388561248779%\n"
     ]
    },
    {
     "name": "stderr",
     "output_type": "stream",
     "text": [
      "c:\\ProgramData\\anaconda3\\Lib\\site-packages\\urllib3\\connectionpool.py:1061: InsecureRequestWarning: Unverified HTTPS request is being made to host '127.0.0.1'. Adding certificate verification is strongly advised. See: https://urllib3.readthedocs.io/en/1.26.x/advanced-usage.html#ssl-warnings\n",
      "  warnings.warn(\n"
     ]
    },
    {
     "name": "stdout",
     "output_type": "stream",
     "text": [
      "Team blue: Aatrox\n",
      "Team blue: Dr. Mundo\n",
      "Team blue: Shen\n",
      "Team blue: Zilean\n",
      "Team blue: Annie\n",
      "Team red: Ngộ Không\n",
      "Team red: Brand\n",
      "Team red: Rammus\n",
      "Team red: Alistar\n",
      "Team red: Graves\n",
      "Expected WIN, 62.4311625957489% probable\n",
      "Win/loss probability: 62.4311625957489%/37.5688374042511%\n"
     ]
    },
    {
     "name": "stderr",
     "output_type": "stream",
     "text": [
      "c:\\ProgramData\\anaconda3\\Lib\\site-packages\\urllib3\\connectionpool.py:1061: InsecureRequestWarning: Unverified HTTPS request is being made to host '127.0.0.1'. Adding certificate verification is strongly advised. See: https://urllib3.readthedocs.io/en/1.26.x/advanced-usage.html#ssl-warnings\n",
      "  warnings.warn(\n"
     ]
    },
    {
     "name": "stdout",
     "output_type": "stream",
     "text": [
      "Team blue: Aatrox\n",
      "Team blue: Dr. Mundo\n",
      "Team blue: Shen\n",
      "Team blue: Zilean\n",
      "Team blue: Annie\n",
      "Team red: Ngộ Không\n",
      "Team red: Brand\n",
      "Team red: Rammus\n",
      "Team red: Alistar\n",
      "Team red: Graves\n",
      "Expected WIN, 62.23748326301575% probable\n",
      "Win/loss probability: 62.23748326301575%/37.76251673698425%\n"
     ]
    },
    {
     "name": "stderr",
     "output_type": "stream",
     "text": [
      "c:\\ProgramData\\anaconda3\\Lib\\site-packages\\urllib3\\connectionpool.py:1061: InsecureRequestWarning: Unverified HTTPS request is being made to host '127.0.0.1'. Adding certificate verification is strongly advised. See: https://urllib3.readthedocs.io/en/1.26.x/advanced-usage.html#ssl-warnings\n",
      "  warnings.warn(\n"
     ]
    },
    {
     "name": "stdout",
     "output_type": "stream",
     "text": [
      "Team blue: Aatrox\n",
      "Team blue: Dr. Mundo\n",
      "Team blue: Shen\n",
      "Team blue: Zilean\n",
      "Team blue: Annie\n",
      "Team red: Ngộ Không\n",
      "Team red: Brand\n",
      "Team red: Rammus\n",
      "Team red: Alistar\n",
      "Team red: Graves\n",
      "Expected LOSS, 51.22608542442322% probable\n",
      "Win/loss probability: 48.77391457557678%/51.22608542442322%\n"
     ]
    },
    {
     "name": "stderr",
     "output_type": "stream",
     "text": [
      "c:\\ProgramData\\anaconda3\\Lib\\site-packages\\urllib3\\connectionpool.py:1061: InsecureRequestWarning: Unverified HTTPS request is being made to host '127.0.0.1'. Adding certificate verification is strongly advised. See: https://urllib3.readthedocs.io/en/1.26.x/advanced-usage.html#ssl-warnings\n",
      "  warnings.warn(\n"
     ]
    },
    {
     "name": "stdout",
     "output_type": "stream",
     "text": [
      "Team blue: Aatrox\n",
      "Team blue: Dr. Mundo\n",
      "Team blue: Shen\n",
      "Team blue: Zilean\n",
      "Team blue: Annie\n",
      "Team red: Ngộ Không\n",
      "Team red: Brand\n",
      "Team red: Rammus\n",
      "Team red: Alistar\n",
      "Team red: Graves\n",
      "Expected LOSS, 50.93194246292114% probable\n",
      "Win/loss probability: 49.06805753707886%/50.93194246292114%\n"
     ]
    },
    {
     "name": "stderr",
     "output_type": "stream",
     "text": [
      "c:\\ProgramData\\anaconda3\\Lib\\site-packages\\urllib3\\connectionpool.py:1061: InsecureRequestWarning: Unverified HTTPS request is being made to host '127.0.0.1'. Adding certificate verification is strongly advised. See: https://urllib3.readthedocs.io/en/1.26.x/advanced-usage.html#ssl-warnings\n",
      "  warnings.warn(\n"
     ]
    },
    {
     "name": "stdout",
     "output_type": "stream",
     "text": [
      "Team blue: Aatrox\n",
      "Team blue: Dr. Mundo\n",
      "Team blue: Shen\n",
      "Team blue: Zilean\n",
      "Team blue: Annie\n",
      "Team red: Ngộ Không\n",
      "Team red: Brand\n",
      "Team red: Rammus\n",
      "Team red: Alistar\n",
      "Team red: Graves\n",
      "Expected LOSS, 50.563377141952515% probable\n",
      "Win/loss probability: 49.436622858047485%/50.563377141952515%\n"
     ]
    },
    {
     "name": "stderr",
     "output_type": "stream",
     "text": [
      "c:\\ProgramData\\anaconda3\\Lib\\site-packages\\urllib3\\connectionpool.py:1061: InsecureRequestWarning: Unverified HTTPS request is being made to host '127.0.0.1'. Adding certificate verification is strongly advised. See: https://urllib3.readthedocs.io/en/1.26.x/advanced-usage.html#ssl-warnings\n",
      "  warnings.warn(\n"
     ]
    },
    {
     "name": "stdout",
     "output_type": "stream",
     "text": [
      "Team blue: Aatrox\n",
      "Team blue: Dr. Mundo\n",
      "Team blue: Shen\n",
      "Team blue: Zilean\n",
      "Team blue: Annie\n",
      "Team red: Ngộ Không\n",
      "Team red: Brand\n",
      "Team red: Rammus\n",
      "Team red: Alistar\n",
      "Team red: Graves\n",
      "Expected LOSS, 51.108318567276% probable\n",
      "Win/loss probability: 48.891681432724%/51.108318567276%\n"
     ]
    },
    {
     "name": "stderr",
     "output_type": "stream",
     "text": [
      "c:\\ProgramData\\anaconda3\\Lib\\site-packages\\urllib3\\connectionpool.py:1061: InsecureRequestWarning: Unverified HTTPS request is being made to host '127.0.0.1'. Adding certificate verification is strongly advised. See: https://urllib3.readthedocs.io/en/1.26.x/advanced-usage.html#ssl-warnings\n",
      "  warnings.warn(\n"
     ]
    },
    {
     "name": "stdout",
     "output_type": "stream",
     "text": [
      "Team blue: Aatrox\n",
      "Team blue: Dr. Mundo\n",
      "Team blue: Shen\n",
      "Team blue: Zilean\n",
      "Team blue: Annie\n",
      "Team red: Ngộ Không\n",
      "Team red: Brand\n",
      "Team red: Rammus\n",
      "Team red: Alistar\n",
      "Team red: Graves\n",
      "Expected LOSS, 50.731927156448364% probable\n",
      "Win/loss probability: 49.268072843551636%/50.731927156448364%\n"
     ]
    },
    {
     "name": "stderr",
     "output_type": "stream",
     "text": [
      "c:\\ProgramData\\anaconda3\\Lib\\site-packages\\urllib3\\connectionpool.py:1061: InsecureRequestWarning: Unverified HTTPS request is being made to host '127.0.0.1'. Adding certificate verification is strongly advised. See: https://urllib3.readthedocs.io/en/1.26.x/advanced-usage.html#ssl-warnings\n",
      "  warnings.warn(\n"
     ]
    },
    {
     "name": "stdout",
     "output_type": "stream",
     "text": [
      "Team blue: Aatrox\n",
      "Team blue: Dr. Mundo\n",
      "Team blue: Shen\n",
      "Team blue: Zilean\n",
      "Team blue: Annie\n",
      "Team red: Ngộ Không\n",
      "Team red: Brand\n",
      "Team red: Rammus\n",
      "Team red: Alistar\n",
      "Team red: Graves\n",
      "Expected LOSS, 50.94724893569946% probable\n",
      "Win/loss probability: 49.0527480840683%/50.94724893569946%\n"
     ]
    },
    {
     "name": "stderr",
     "output_type": "stream",
     "text": [
      "c:\\ProgramData\\anaconda3\\Lib\\site-packages\\urllib3\\connectionpool.py:1061: InsecureRequestWarning: Unverified HTTPS request is being made to host '127.0.0.1'. Adding certificate verification is strongly advised. See: https://urllib3.readthedocs.io/en/1.26.x/advanced-usage.html#ssl-warnings\n",
      "  warnings.warn(\n"
     ]
    },
    {
     "name": "stdout",
     "output_type": "stream",
     "text": [
      "Team blue: Aatrox\n",
      "Team blue: Dr. Mundo\n",
      "Team blue: Shen\n",
      "Team blue: Zilean\n",
      "Team blue: Annie\n",
      "Team red: Ngộ Không\n",
      "Team red: Brand\n",
      "Team red: Rammus\n",
      "Team red: Alistar\n",
      "Team red: Graves\n",
      "Expected LOSS, 51.40906572341919% probable\n",
      "Win/loss probability: 48.59093427658081%/51.40906572341919%\n"
     ]
    },
    {
     "name": "stderr",
     "output_type": "stream",
     "text": [
      "c:\\ProgramData\\anaconda3\\Lib\\site-packages\\urllib3\\connectionpool.py:1061: InsecureRequestWarning: Unverified HTTPS request is being made to host '127.0.0.1'. Adding certificate verification is strongly advised. See: https://urllib3.readthedocs.io/en/1.26.x/advanced-usage.html#ssl-warnings\n",
      "  warnings.warn(\n"
     ]
    },
    {
     "name": "stdout",
     "output_type": "stream",
     "text": [
      "Team blue: Aatrox\n",
      "Team blue: Dr. Mundo\n",
      "Team blue: Shen\n",
      "Team blue: Zilean\n",
      "Team blue: Annie\n",
      "Team red: Ngộ Không\n",
      "Team red: Brand\n",
      "Team red: Rammus\n",
      "Team red: Alistar\n",
      "Team red: Graves\n",
      "Expected LOSS, 51.1067271232605% probable\n",
      "Win/loss probability: 48.8932728767395%/51.1067271232605%\n"
     ]
    },
    {
     "name": "stderr",
     "output_type": "stream",
     "text": [
      "c:\\ProgramData\\anaconda3\\Lib\\site-packages\\urllib3\\connectionpool.py:1061: InsecureRequestWarning: Unverified HTTPS request is being made to host '127.0.0.1'. Adding certificate verification is strongly advised. See: https://urllib3.readthedocs.io/en/1.26.x/advanced-usage.html#ssl-warnings\n",
      "  warnings.warn(\n"
     ]
    },
    {
     "name": "stdout",
     "output_type": "stream",
     "text": [
      "Team blue: Aatrox\n",
      "Team blue: Dr. Mundo\n",
      "Team blue: Shen\n",
      "Team blue: Zilean\n",
      "Team blue: Annie\n",
      "Team red: Ngộ Không\n",
      "Team red: Brand\n",
      "Team red: Rammus\n",
      "Team red: Alistar\n",
      "Team red: Graves\n",
      "Expected LOSS, 63.519287109375% probable\n",
      "Win/loss probability: 36.480712890625%/63.519287109375%\n"
     ]
    },
    {
     "name": "stderr",
     "output_type": "stream",
     "text": [
      "c:\\ProgramData\\anaconda3\\Lib\\site-packages\\urllib3\\connectionpool.py:1061: InsecureRequestWarning: Unverified HTTPS request is being made to host '127.0.0.1'. Adding certificate verification is strongly advised. See: https://urllib3.readthedocs.io/en/1.26.x/advanced-usage.html#ssl-warnings\n",
      "  warnings.warn(\n"
     ]
    },
    {
     "name": "stdout",
     "output_type": "stream",
     "text": [
      "Team blue: Aatrox\n",
      "Team blue: Dr. Mundo\n",
      "Team blue: Shen\n",
      "Team blue: Zilean\n",
      "Team blue: Annie\n",
      "Team red: Ngộ Không\n",
      "Team red: Brand\n",
      "Team red: Rammus\n",
      "Team red: Alistar\n",
      "Team red: Graves\n",
      "Expected LOSS, 63.95483613014221% probable\n",
      "Win/loss probability: 36.04516386985779%/63.95483613014221%\n"
     ]
    },
    {
     "name": "stderr",
     "output_type": "stream",
     "text": [
      "c:\\ProgramData\\anaconda3\\Lib\\site-packages\\urllib3\\connectionpool.py:1061: InsecureRequestWarning: Unverified HTTPS request is being made to host '127.0.0.1'. Adding certificate verification is strongly advised. See: https://urllib3.readthedocs.io/en/1.26.x/advanced-usage.html#ssl-warnings\n",
      "  warnings.warn(\n"
     ]
    },
    {
     "name": "stdout",
     "output_type": "stream",
     "text": [
      "Team blue: Aatrox\n",
      "Team blue: Dr. Mundo\n",
      "Team blue: Shen\n",
      "Team blue: Zilean\n",
      "Team blue: Annie\n",
      "Team red: Ngộ Không\n",
      "Team red: Brand\n",
      "Team red: Rammus\n",
      "Team red: Alistar\n",
      "Team red: Graves\n",
      "Expected LOSS, 64.28783535957336% probable\n",
      "Win/loss probability: 35.712164640426636%/64.28783535957336%\n"
     ]
    },
    {
     "name": "stderr",
     "output_type": "stream",
     "text": [
      "c:\\ProgramData\\anaconda3\\Lib\\site-packages\\urllib3\\connectionpool.py:1061: InsecureRequestWarning: Unverified HTTPS request is being made to host '127.0.0.1'. Adding certificate verification is strongly advised. See: https://urllib3.readthedocs.io/en/1.26.x/advanced-usage.html#ssl-warnings\n",
      "  warnings.warn(\n"
     ]
    },
    {
     "name": "stdout",
     "output_type": "stream",
     "text": [
      "Team blue: Aatrox\n",
      "Team blue: Dr. Mundo\n",
      "Team blue: Shen\n",
      "Team blue: Zilean\n",
      "Team blue: Annie\n",
      "Team red: Ngộ Không\n",
      "Team red: Brand\n",
      "Team red: Rammus\n",
      "Team red: Alistar\n",
      "Team red: Graves\n",
      "Expected LOSS, 65.46396613121033% probable\n",
      "Win/loss probability: 34.53603386878967%/65.46396613121033%\n"
     ]
    },
    {
     "name": "stderr",
     "output_type": "stream",
     "text": [
      "c:\\ProgramData\\anaconda3\\Lib\\site-packages\\urllib3\\connectionpool.py:1061: InsecureRequestWarning: Unverified HTTPS request is being made to host '127.0.0.1'. Adding certificate verification is strongly advised. See: https://urllib3.readthedocs.io/en/1.26.x/advanced-usage.html#ssl-warnings\n",
      "  warnings.warn(\n"
     ]
    },
    {
     "name": "stdout",
     "output_type": "stream",
     "text": [
      "Team blue: Aatrox\n",
      "Team blue: Dr. Mundo\n",
      "Team blue: Shen\n",
      "Team blue: Zilean\n",
      "Team blue: Annie\n",
      "Team red: Ngộ Không\n",
      "Team red: Brand\n",
      "Team red: Rammus\n",
      "Team red: Alistar\n",
      "Team red: Graves\n",
      "Expected LOSS, 65.43322801589966% probable\n",
      "Win/loss probability: 34.56677198410034%/65.43322801589966%\n"
     ]
    },
    {
     "name": "stderr",
     "output_type": "stream",
     "text": [
      "c:\\ProgramData\\anaconda3\\Lib\\site-packages\\urllib3\\connectionpool.py:1061: InsecureRequestWarning: Unverified HTTPS request is being made to host '127.0.0.1'. Adding certificate verification is strongly advised. See: https://urllib3.readthedocs.io/en/1.26.x/advanced-usage.html#ssl-warnings\n",
      "  warnings.warn(\n"
     ]
    },
    {
     "name": "stdout",
     "output_type": "stream",
     "text": [
      "Team blue: Aatrox\n",
      "Team blue: Dr. Mundo\n",
      "Team blue: Shen\n",
      "Team blue: Zilean\n",
      "Team blue: Annie\n",
      "Team red: Ngộ Không\n",
      "Team red: Brand\n",
      "Team red: Rammus\n",
      "Team red: Alistar\n",
      "Team red: Graves\n",
      "Expected LOSS, 64.93264436721802% probable\n",
      "Win/loss probability: 35.06735563278198%/64.93264436721802%\n"
     ]
    },
    {
     "name": "stderr",
     "output_type": "stream",
     "text": [
      "c:\\ProgramData\\anaconda3\\Lib\\site-packages\\urllib3\\connectionpool.py:1061: InsecureRequestWarning: Unverified HTTPS request is being made to host '127.0.0.1'. Adding certificate verification is strongly advised. See: https://urllib3.readthedocs.io/en/1.26.x/advanced-usage.html#ssl-warnings\n",
      "  warnings.warn(\n"
     ]
    },
    {
     "name": "stdout",
     "output_type": "stream",
     "text": [
      "Team blue: Aatrox\n",
      "Team blue: Dr. Mundo\n",
      "Team blue: Shen\n",
      "Team blue: Zilean\n",
      "Team blue: Annie\n",
      "Team red: Ngộ Không\n",
      "Team red: Brand\n",
      "Team red: Rammus\n",
      "Team red: Alistar\n",
      "Team red: Graves\n",
      "Expected LOSS, 65.11114239692688% probable\n",
      "Win/loss probability: 34.88885760307312%/65.11114239692688%\n"
     ]
    },
    {
     "name": "stderr",
     "output_type": "stream",
     "text": [
      "c:\\ProgramData\\anaconda3\\Lib\\site-packages\\urllib3\\connectionpool.py:1061: InsecureRequestWarning: Unverified HTTPS request is being made to host '127.0.0.1'. Adding certificate verification is strongly advised. See: https://urllib3.readthedocs.io/en/1.26.x/advanced-usage.html#ssl-warnings\n",
      "  warnings.warn(\n"
     ]
    },
    {
     "name": "stdout",
     "output_type": "stream",
     "text": [
      "Team blue: Aatrox\n",
      "Team blue: Dr. Mundo\n",
      "Team blue: Shen\n",
      "Team blue: Zilean\n",
      "Team blue: Annie\n",
      "Team red: Ngộ Không\n",
      "Team red: Brand\n",
      "Team red: Rammus\n",
      "Team red: Alistar\n",
      "Team red: Graves\n",
      "Expected LOSS, 63.65984082221985% probable\n",
      "Win/loss probability: 36.34015917778015%/63.65984082221985%\n"
     ]
    },
    {
     "name": "stderr",
     "output_type": "stream",
     "text": [
      "c:\\ProgramData\\anaconda3\\Lib\\site-packages\\urllib3\\connectionpool.py:1061: InsecureRequestWarning: Unverified HTTPS request is being made to host '127.0.0.1'. Adding certificate verification is strongly advised. See: https://urllib3.readthedocs.io/en/1.26.x/advanced-usage.html#ssl-warnings\n",
      "  warnings.warn(\n"
     ]
    },
    {
     "name": "stdout",
     "output_type": "stream",
     "text": [
      "Team blue: Aatrox\n",
      "Team blue: Dr. Mundo\n",
      "Team blue: Shen\n",
      "Team blue: Zilean\n",
      "Team blue: Annie\n",
      "Team red: Ngộ Không\n",
      "Team red: Brand\n",
      "Team red: Rammus\n",
      "Team red: Alistar\n",
      "Team red: Graves\n",
      "Expected LOSS, 61.68617606163025% probable\n",
      "Win/loss probability: 38.31382393836975%/61.68617606163025%\n"
     ]
    },
    {
     "name": "stderr",
     "output_type": "stream",
     "text": [
      "c:\\ProgramData\\anaconda3\\Lib\\site-packages\\urllib3\\connectionpool.py:1061: InsecureRequestWarning: Unverified HTTPS request is being made to host '127.0.0.1'. Adding certificate verification is strongly advised. See: https://urllib3.readthedocs.io/en/1.26.x/advanced-usage.html#ssl-warnings\n",
      "  warnings.warn(\n"
     ]
    },
    {
     "name": "stdout",
     "output_type": "stream",
     "text": [
      "Team blue: Aatrox\n",
      "Team blue: Dr. Mundo\n",
      "Team blue: Shen\n",
      "Team blue: Zilean\n",
      "Team blue: Annie\n",
      "Team red: Ngộ Không\n",
      "Team red: Brand\n",
      "Team red: Rammus\n",
      "Team red: Alistar\n",
      "Team red: Graves\n",
      "Expected LOSS, 51.25986933708191% probable\n",
      "Win/loss probability: 48.74013066291809%/51.25986933708191%\n"
     ]
    },
    {
     "name": "stderr",
     "output_type": "stream",
     "text": [
      "c:\\ProgramData\\anaconda3\\Lib\\site-packages\\urllib3\\connectionpool.py:1061: InsecureRequestWarning: Unverified HTTPS request is being made to host '127.0.0.1'. Adding certificate verification is strongly advised. See: https://urllib3.readthedocs.io/en/1.26.x/advanced-usage.html#ssl-warnings\n",
      "  warnings.warn(\n"
     ]
    },
    {
     "name": "stdout",
     "output_type": "stream",
     "text": [
      "Team blue: Aatrox\n",
      "Team blue: Dr. Mundo\n",
      "Team blue: Shen\n",
      "Team blue: Zilean\n",
      "Team blue: Annie\n",
      "Team red: Ngộ Không\n",
      "Team red: Brand\n",
      "Team red: Rammus\n",
      "Team red: Alistar\n",
      "Team red: Graves\n",
      "Expected LOSS, 52.75721549987793% probable\n",
      "Win/loss probability: 47.24278450012207%/52.75721549987793%\n"
     ]
    },
    {
     "name": "stderr",
     "output_type": "stream",
     "text": [
      "c:\\ProgramData\\anaconda3\\Lib\\site-packages\\urllib3\\connectionpool.py:1061: InsecureRequestWarning: Unverified HTTPS request is being made to host '127.0.0.1'. Adding certificate verification is strongly advised. See: https://urllib3.readthedocs.io/en/1.26.x/advanced-usage.html#ssl-warnings\n",
      "  warnings.warn(\n"
     ]
    },
    {
     "name": "stdout",
     "output_type": "stream",
     "text": [
      "Team blue: Aatrox\n",
      "Team blue: Dr. Mundo\n",
      "Team blue: Shen\n",
      "Team blue: Zilean\n",
      "Team blue: Annie\n",
      "Team red: Ngộ Không\n",
      "Team red: Brand\n",
      "Team red: Rammus\n",
      "Team red: Alistar\n",
      "Team red: Graves\n",
      "Expected LOSS, 50.868093967437744% probable\n",
      "Win/loss probability: 49.131906032562256%/50.868093967437744%\n"
     ]
    },
    {
     "name": "stderr",
     "output_type": "stream",
     "text": [
      "c:\\ProgramData\\anaconda3\\Lib\\site-packages\\urllib3\\connectionpool.py:1061: InsecureRequestWarning: Unverified HTTPS request is being made to host '127.0.0.1'. Adding certificate verification is strongly advised. See: https://urllib3.readthedocs.io/en/1.26.x/advanced-usage.html#ssl-warnings\n",
      "  warnings.warn(\n"
     ]
    },
    {
     "name": "stdout",
     "output_type": "stream",
     "text": [
      "Team blue: Aatrox\n",
      "Team blue: Dr. Mundo\n",
      "Team blue: Shen\n",
      "Team blue: Zilean\n",
      "Team blue: Annie\n",
      "Team red: Ngộ Không\n",
      "Team red: Brand\n",
      "Team red: Rammus\n",
      "Team red: Alistar\n",
      "Team red: Graves\n",
      "Expected WIN, 50.46844482421875% probable\n",
      "Win/loss probability: 50.46844482421875%/49.53155517578125%\n"
     ]
    },
    {
     "name": "stderr",
     "output_type": "stream",
     "text": [
      "c:\\ProgramData\\anaconda3\\Lib\\site-packages\\urllib3\\connectionpool.py:1061: InsecureRequestWarning: Unverified HTTPS request is being made to host '127.0.0.1'. Adding certificate verification is strongly advised. See: https://urllib3.readthedocs.io/en/1.26.x/advanced-usage.html#ssl-warnings\n",
      "  warnings.warn(\n"
     ]
    },
    {
     "name": "stdout",
     "output_type": "stream",
     "text": [
      "Team blue: Aatrox\n",
      "Team blue: Dr. Mundo\n",
      "Team blue: Shen\n",
      "Team blue: Zilean\n",
      "Team blue: Annie\n",
      "Team red: Ngộ Không\n",
      "Team red: Brand\n",
      "Team red: Rammus\n",
      "Team red: Alistar\n",
      "Team red: Graves\n",
      "Expected LOSS, 52.03509330749512% probable\n",
      "Win/loss probability: 47.964903712272644%/52.03509330749512%\n"
     ]
    },
    {
     "name": "stderr",
     "output_type": "stream",
     "text": [
      "c:\\ProgramData\\anaconda3\\Lib\\site-packages\\urllib3\\connectionpool.py:1061: InsecureRequestWarning: Unverified HTTPS request is being made to host '127.0.0.1'. Adding certificate verification is strongly advised. See: https://urllib3.readthedocs.io/en/1.26.x/advanced-usage.html#ssl-warnings\n",
      "  warnings.warn(\n"
     ]
    },
    {
     "name": "stdout",
     "output_type": "stream",
     "text": [
      "Team blue: Aatrox\n",
      "Team blue: Dr. Mundo\n",
      "Team blue: Shen\n",
      "Team blue: Zilean\n",
      "Team blue: Annie\n",
      "Team red: Ngộ Không\n",
      "Team red: Brand\n",
      "Team red: Rammus\n",
      "Team red: Alistar\n",
      "Team red: Graves\n",
      "Expected LOSS, 50.874727964401245% probable\n",
      "Win/loss probability: 49.125272035598755%/50.874727964401245%\n"
     ]
    },
    {
     "name": "stderr",
     "output_type": "stream",
     "text": [
      "c:\\ProgramData\\anaconda3\\Lib\\site-packages\\urllib3\\connectionpool.py:1061: InsecureRequestWarning: Unverified HTTPS request is being made to host '127.0.0.1'. Adding certificate verification is strongly advised. See: https://urllib3.readthedocs.io/en/1.26.x/advanced-usage.html#ssl-warnings\n",
      "  warnings.warn(\n"
     ]
    },
    {
     "name": "stdout",
     "output_type": "stream",
     "text": [
      "Team blue: Aatrox\n",
      "Team blue: Dr. Mundo\n",
      "Team blue: Shen\n",
      "Team blue: Zilean\n",
      "Team blue: Annie\n",
      "Team red: Ngộ Không\n",
      "Team red: Brand\n",
      "Team red: Rammus\n",
      "Team red: Alistar\n",
      "Team red: Graves\n",
      "Expected LOSS, 51.184600591659546% probable\n",
      "Win/loss probability: 48.815399408340454%/51.184600591659546%\n"
     ]
    },
    {
     "name": "stderr",
     "output_type": "stream",
     "text": [
      "c:\\ProgramData\\anaconda3\\Lib\\site-packages\\urllib3\\connectionpool.py:1061: InsecureRequestWarning: Unverified HTTPS request is being made to host '127.0.0.1'. Adding certificate verification is strongly advised. See: https://urllib3.readthedocs.io/en/1.26.x/advanced-usage.html#ssl-warnings\n",
      "  warnings.warn(\n"
     ]
    },
    {
     "name": "stdout",
     "output_type": "stream",
     "text": [
      "Team blue: Aatrox\n",
      "Team blue: Dr. Mundo\n",
      "Team blue: Shen\n",
      "Team blue: Zilean\n",
      "Team blue: Annie\n",
      "Team red: Ngộ Không\n",
      "Team red: Brand\n",
      "Team red: Rammus\n",
      "Team red: Alistar\n",
      "Team red: Graves\n",
      "Expected LOSS, 52.966856956481934% probable\n",
      "Win/loss probability: 47.033143043518066%/52.966856956481934%\n"
     ]
    },
    {
     "name": "stderr",
     "output_type": "stream",
     "text": [
      "c:\\ProgramData\\anaconda3\\Lib\\site-packages\\urllib3\\connectionpool.py:1061: InsecureRequestWarning: Unverified HTTPS request is being made to host '127.0.0.1'. Adding certificate verification is strongly advised. See: https://urllib3.readthedocs.io/en/1.26.x/advanced-usage.html#ssl-warnings\n",
      "  warnings.warn(\n"
     ]
    },
    {
     "name": "stdout",
     "output_type": "stream",
     "text": [
      "Team blue: Aatrox\n",
      "Team blue: Dr. Mundo\n",
      "Team blue: Shen\n",
      "Team blue: Zilean\n",
      "Team blue: Annie\n",
      "Team red: Ngộ Không\n",
      "Team red: Brand\n",
      "Team red: Rammus\n",
      "Team red: Alistar\n",
      "Team red: Graves\n",
      "Expected LOSS, 53.9941132068634% probable\n",
      "Win/loss probability: 46.0058867931366%/53.9941132068634%\n"
     ]
    },
    {
     "name": "stderr",
     "output_type": "stream",
     "text": [
      "c:\\ProgramData\\anaconda3\\Lib\\site-packages\\urllib3\\connectionpool.py:1061: InsecureRequestWarning: Unverified HTTPS request is being made to host '127.0.0.1'. Adding certificate verification is strongly advised. See: https://urllib3.readthedocs.io/en/1.26.x/advanced-usage.html#ssl-warnings\n",
      "  warnings.warn(\n"
     ]
    },
    {
     "name": "stdout",
     "output_type": "stream",
     "text": [
      "Team blue: Aatrox\n",
      "Team blue: Dr. Mundo\n",
      "Team blue: Shen\n",
      "Team blue: Zilean\n",
      "Team blue: Annie\n",
      "Team red: Ngộ Không\n",
      "Team red: Brand\n",
      "Team red: Rammus\n",
      "Team red: Alistar\n",
      "Team red: Graves\n",
      "Expected LOSS, 53.795427083969116% probable\n",
      "Win/loss probability: 46.204572916030884%/53.795427083969116%\n"
     ]
    },
    {
     "name": "stderr",
     "output_type": "stream",
     "text": [
      "c:\\ProgramData\\anaconda3\\Lib\\site-packages\\urllib3\\connectionpool.py:1061: InsecureRequestWarning: Unverified HTTPS request is being made to host '127.0.0.1'. Adding certificate verification is strongly advised. See: https://urllib3.readthedocs.io/en/1.26.x/advanced-usage.html#ssl-warnings\n",
      "  warnings.warn(\n"
     ]
    },
    {
     "name": "stdout",
     "output_type": "stream",
     "text": [
      "Team blue: Aatrox\n",
      "Team blue: Dr. Mundo\n",
      "Team blue: Shen\n",
      "Team blue: Zilean\n",
      "Team blue: Annie\n",
      "Team red: Ngộ Không\n",
      "Team red: Brand\n",
      "Team red: Rammus\n",
      "Team red: Alistar\n",
      "Team red: Graves\n",
      "Expected LOSS, 52.18038558959961% probable\n",
      "Win/loss probability: 47.81961143016815%/52.18038558959961%\n"
     ]
    },
    {
     "name": "stderr",
     "output_type": "stream",
     "text": [
      "c:\\ProgramData\\anaconda3\\Lib\\site-packages\\urllib3\\connectionpool.py:1061: InsecureRequestWarning: Unverified HTTPS request is being made to host '127.0.0.1'. Adding certificate verification is strongly advised. See: https://urllib3.readthedocs.io/en/1.26.x/advanced-usage.html#ssl-warnings\n",
      "  warnings.warn(\n"
     ]
    },
    {
     "name": "stdout",
     "output_type": "stream",
     "text": [
      "Team blue: Aatrox\n",
      "Team blue: Dr. Mundo\n",
      "Team blue: Shen\n",
      "Team blue: Zilean\n",
      "Team blue: Annie\n",
      "Team red: Ngộ Không\n",
      "Team red: Brand\n",
      "Team red: Rammus\n",
      "Team red: Alistar\n",
      "Team red: Graves\n",
      "Expected LOSS, 51.21070146560669% probable\n",
      "Win/loss probability: 48.78930151462555%/51.21070146560669%\n"
     ]
    },
    {
     "name": "stderr",
     "output_type": "stream",
     "text": [
      "c:\\ProgramData\\anaconda3\\Lib\\site-packages\\urllib3\\connectionpool.py:1061: InsecureRequestWarning: Unverified HTTPS request is being made to host '127.0.0.1'. Adding certificate verification is strongly advised. See: https://urllib3.readthedocs.io/en/1.26.x/advanced-usage.html#ssl-warnings\n",
      "  warnings.warn(\n"
     ]
    },
    {
     "name": "stdout",
     "output_type": "stream",
     "text": [
      "Team blue: Aatrox\n",
      "Team blue: Dr. Mundo\n",
      "Team blue: Shen\n",
      "Team blue: Zilean\n",
      "Team blue: Annie\n",
      "Team red: Ngộ Không\n",
      "Team red: Brand\n",
      "Team red: Rammus\n",
      "Team red: Alistar\n",
      "Team red: Graves\n",
      "Expected LOSS, 53.00947427749634% probable\n",
      "Win/loss probability: 46.9905287027359%/53.00947427749634%\n"
     ]
    },
    {
     "name": "stderr",
     "output_type": "stream",
     "text": [
      "c:\\ProgramData\\anaconda3\\Lib\\site-packages\\urllib3\\connectionpool.py:1061: InsecureRequestWarning: Unverified HTTPS request is being made to host '127.0.0.1'. Adding certificate verification is strongly advised. See: https://urllib3.readthedocs.io/en/1.26.x/advanced-usage.html#ssl-warnings\n",
      "  warnings.warn(\n"
     ]
    },
    {
     "name": "stdout",
     "output_type": "stream",
     "text": [
      "Team blue: Aatrox\n",
      "Team blue: Dr. Mundo\n",
      "Team blue: Shen\n",
      "Team blue: Zilean\n",
      "Team blue: Annie\n",
      "Team red: Ngộ Không\n",
      "Team red: Brand\n",
      "Team red: Rammus\n",
      "Team red: Alistar\n",
      "Team red: Graves\n",
      "Expected LOSS, 50.71970224380493% probable\n",
      "Win/loss probability: 49.28030073642731%/50.71970224380493%\n"
     ]
    },
    {
     "name": "stderr",
     "output_type": "stream",
     "text": [
      "c:\\ProgramData\\anaconda3\\Lib\\site-packages\\urllib3\\connectionpool.py:1061: InsecureRequestWarning: Unverified HTTPS request is being made to host '127.0.0.1'. Adding certificate verification is strongly advised. See: https://urllib3.readthedocs.io/en/1.26.x/advanced-usage.html#ssl-warnings\n",
      "  warnings.warn(\n"
     ]
    },
    {
     "name": "stdout",
     "output_type": "stream",
     "text": [
      "Team blue: Aatrox\n",
      "Team blue: Dr. Mundo\n",
      "Team blue: Shen\n",
      "Team blue: Zilean\n",
      "Team blue: Annie\n",
      "Team red: Ngộ Không\n",
      "Team red: Brand\n",
      "Team red: Rammus\n",
      "Team red: Alistar\n",
      "Team red: Graves\n",
      "Expected LOSS, 52.08226442337036% probable\n",
      "Win/loss probability: 47.91773557662964%/52.08226442337036%\n"
     ]
    },
    {
     "name": "stderr",
     "output_type": "stream",
     "text": [
      "c:\\ProgramData\\anaconda3\\Lib\\site-packages\\urllib3\\connectionpool.py:1061: InsecureRequestWarning: Unverified HTTPS request is being made to host '127.0.0.1'. Adding certificate verification is strongly advised. See: https://urllib3.readthedocs.io/en/1.26.x/advanced-usage.html#ssl-warnings\n",
      "  warnings.warn(\n"
     ]
    },
    {
     "name": "stdout",
     "output_type": "stream",
     "text": [
      "Team blue: Aatrox\n",
      "Team blue: Dr. Mundo\n",
      "Team blue: Shen\n",
      "Team blue: Zilean\n",
      "Team blue: Annie\n",
      "Team red: Ngộ Không\n",
      "Team red: Brand\n",
      "Team red: Rammus\n",
      "Team red: Alistar\n",
      "Team red: Graves\n",
      "Expected LOSS, 65.99294543266296% probable\n",
      "Win/loss probability: 34.007054567337036%/65.99294543266296%\n"
     ]
    },
    {
     "name": "stderr",
     "output_type": "stream",
     "text": [
      "c:\\ProgramData\\anaconda3\\Lib\\site-packages\\urllib3\\connectionpool.py:1061: InsecureRequestWarning: Unverified HTTPS request is being made to host '127.0.0.1'. Adding certificate verification is strongly advised. See: https://urllib3.readthedocs.io/en/1.26.x/advanced-usage.html#ssl-warnings\n",
      "  warnings.warn(\n"
     ]
    },
    {
     "name": "stdout",
     "output_type": "stream",
     "text": [
      "Team blue: Aatrox\n",
      "Team blue: Dr. Mundo\n",
      "Team blue: Shen\n",
      "Team blue: Zilean\n",
      "Team blue: Annie\n",
      "Team red: Ngộ Không\n",
      "Team red: Brand\n",
      "Team red: Rammus\n",
      "Team red: Alistar\n",
      "Team red: Graves\n",
      "Expected LOSS, 65.89709520339966% probable\n",
      "Win/loss probability: 34.10290777683258%/65.89709520339966%\n"
     ]
    },
    {
     "name": "stderr",
     "output_type": "stream",
     "text": [
      "c:\\ProgramData\\anaconda3\\Lib\\site-packages\\urllib3\\connectionpool.py:1061: InsecureRequestWarning: Unverified HTTPS request is being made to host '127.0.0.1'. Adding certificate verification is strongly advised. See: https://urllib3.readthedocs.io/en/1.26.x/advanced-usage.html#ssl-warnings\n",
      "  warnings.warn(\n"
     ]
    },
    {
     "name": "stdout",
     "output_type": "stream",
     "text": [
      "Team blue: Aatrox\n",
      "Team blue: Dr. Mundo\n",
      "Team blue: Shen\n",
      "Team blue: Zilean\n",
      "Team blue: Annie\n",
      "Team red: Ngộ Không\n",
      "Team red: Brand\n",
      "Team red: Rammus\n",
      "Team red: Alistar\n",
      "Team red: Graves\n",
      "Expected LOSS, 66.60456657409668% probable\n",
      "Win/loss probability: 33.39543640613556%/66.60456657409668%\n"
     ]
    },
    {
     "name": "stderr",
     "output_type": "stream",
     "text": [
      "c:\\ProgramData\\anaconda3\\Lib\\site-packages\\urllib3\\connectionpool.py:1061: InsecureRequestWarning: Unverified HTTPS request is being made to host '127.0.0.1'. Adding certificate verification is strongly advised. See: https://urllib3.readthedocs.io/en/1.26.x/advanced-usage.html#ssl-warnings\n",
      "  warnings.warn(\n"
     ]
    },
    {
     "name": "stdout",
     "output_type": "stream",
     "text": [
      "Team blue: Aatrox\n",
      "Team blue: Dr. Mundo\n",
      "Team blue: Shen\n",
      "Team blue: Zilean\n",
      "Team blue: Annie\n",
      "Team red: Ngộ Không\n",
      "Team red: Brand\n",
      "Team red: Rammus\n",
      "Team red: Alistar\n",
      "Team red: Graves\n",
      "Expected LOSS, 55.1098108291626% probable\n",
      "Win/loss probability: 44.890186190605164%/55.1098108291626%\n"
     ]
    },
    {
     "name": "stderr",
     "output_type": "stream",
     "text": [
      "c:\\ProgramData\\anaconda3\\Lib\\site-packages\\urllib3\\connectionpool.py:1061: InsecureRequestWarning: Unverified HTTPS request is being made to host '127.0.0.1'. Adding certificate verification is strongly advised. See: https://urllib3.readthedocs.io/en/1.26.x/advanced-usage.html#ssl-warnings\n",
      "  warnings.warn(\n"
     ]
    },
    {
     "name": "stdout",
     "output_type": "stream",
     "text": [
      "Team blue: Aatrox\n",
      "Team blue: Dr. Mundo\n",
      "Team blue: Shen\n",
      "Team blue: Zilean\n",
      "Team blue: Annie\n",
      "Team red: Ngộ Không\n",
      "Team red: Brand\n",
      "Team red: Rammus\n",
      "Team red: Alistar\n",
      "Team red: Graves\n",
      "Expected LOSS, 61.0562801361084% probable\n",
      "Win/loss probability: 38.9437198638916%/61.0562801361084%\n"
     ]
    },
    {
     "name": "stderr",
     "output_type": "stream",
     "text": [
      "c:\\ProgramData\\anaconda3\\Lib\\site-packages\\urllib3\\connectionpool.py:1061: InsecureRequestWarning: Unverified HTTPS request is being made to host '127.0.0.1'. Adding certificate verification is strongly advised. See: https://urllib3.readthedocs.io/en/1.26.x/advanced-usage.html#ssl-warnings\n",
      "  warnings.warn(\n"
     ]
    },
    {
     "name": "stdout",
     "output_type": "stream",
     "text": [
      "Team blue: Aatrox\n",
      "Team blue: Dr. Mundo\n",
      "Team blue: Shen\n",
      "Team blue: Zilean\n",
      "Team blue: Annie\n",
      "Team red: Ngộ Không\n",
      "Team red: Brand\n",
      "Team red: Rammus\n",
      "Team red: Alistar\n",
      "Team red: Graves\n",
      "Expected LOSS, 54.832035303115845% probable\n",
      "Win/loss probability: 45.167964696884155%/54.832035303115845%\n"
     ]
    },
    {
     "name": "stderr",
     "output_type": "stream",
     "text": [
      "c:\\ProgramData\\anaconda3\\Lib\\site-packages\\urllib3\\connectionpool.py:1061: InsecureRequestWarning: Unverified HTTPS request is being made to host '127.0.0.1'. Adding certificate verification is strongly advised. See: https://urllib3.readthedocs.io/en/1.26.x/advanced-usage.html#ssl-warnings\n",
      "  warnings.warn(\n"
     ]
    },
    {
     "name": "stdout",
     "output_type": "stream",
     "text": [
      "Team blue: Aatrox\n",
      "Team blue: Dr. Mundo\n",
      "Team blue: Shen\n",
      "Team blue: Zilean\n",
      "Team blue: Annie\n",
      "Team red: Ngộ Không\n",
      "Team red: Brand\n",
      "Team red: Rammus\n",
      "Team red: Alistar\n",
      "Team red: Graves\n",
      "Expected LOSS, 52.18120813369751% probable\n",
      "Win/loss probability: 47.81879186630249%/52.18120813369751%\n"
     ]
    },
    {
     "name": "stderr",
     "output_type": "stream",
     "text": [
      "c:\\ProgramData\\anaconda3\\Lib\\site-packages\\urllib3\\connectionpool.py:1061: InsecureRequestWarning: Unverified HTTPS request is being made to host '127.0.0.1'. Adding certificate verification is strongly advised. See: https://urllib3.readthedocs.io/en/1.26.x/advanced-usage.html#ssl-warnings\n",
      "  warnings.warn(\n"
     ]
    },
    {
     "name": "stdout",
     "output_type": "stream",
     "text": [
      "Team blue: Aatrox\n",
      "Team blue: Dr. Mundo\n",
      "Team blue: Shen\n",
      "Team blue: Zilean\n",
      "Team blue: Annie\n",
      "Team red: Ngộ Không\n",
      "Team red: Brand\n",
      "Team red: Rammus\n",
      "Team red: Alistar\n",
      "Team red: Graves\n",
      "Expected WIN, 51.14455819129944% probable\n",
      "Win/loss probability: 51.14455819129944%/48.85544180870056%\n"
     ]
    },
    {
     "name": "stderr",
     "output_type": "stream",
     "text": [
      "c:\\ProgramData\\anaconda3\\Lib\\site-packages\\urllib3\\connectionpool.py:1061: InsecureRequestWarning: Unverified HTTPS request is being made to host '127.0.0.1'. Adding certificate verification is strongly advised. See: https://urllib3.readthedocs.io/en/1.26.x/advanced-usage.html#ssl-warnings\n",
      "  warnings.warn(\n"
     ]
    },
    {
     "name": "stdout",
     "output_type": "stream",
     "text": [
      "Team blue: Aatrox\n",
      "Team blue: Dr. Mundo\n",
      "Team blue: Shen\n",
      "Team blue: Zilean\n",
      "Team blue: Annie\n",
      "Team red: Ngộ Không\n",
      "Team red: Brand\n",
      "Team red: Rammus\n",
      "Team red: Alistar\n",
      "Team red: Graves\n",
      "Expected LOSS, 51.044678688049316% probable\n",
      "Win/loss probability: 48.955321311950684%/51.044678688049316%\n"
     ]
    },
    {
     "name": "stderr",
     "output_type": "stream",
     "text": [
      "c:\\ProgramData\\anaconda3\\Lib\\site-packages\\urllib3\\connectionpool.py:1061: InsecureRequestWarning: Unverified HTTPS request is being made to host '127.0.0.1'. Adding certificate verification is strongly advised. See: https://urllib3.readthedocs.io/en/1.26.x/advanced-usage.html#ssl-warnings\n",
      "  warnings.warn(\n"
     ]
    },
    {
     "name": "stdout",
     "output_type": "stream",
     "text": [
      "Team blue: Aatrox\n",
      "Team blue: Dr. Mundo\n",
      "Team blue: Shen\n",
      "Team blue: Zilean\n",
      "Team blue: Annie\n",
      "Team red: Ngộ Không\n",
      "Team red: Brand\n",
      "Team red: Rammus\n",
      "Team red: Alistar\n",
      "Team red: Graves\n",
      "Expected WIN, 59.12054777145386% probable\n",
      "Win/loss probability: 59.12054777145386%/40.87945222854614%\n"
     ]
    },
    {
     "name": "stderr",
     "output_type": "stream",
     "text": [
      "c:\\ProgramData\\anaconda3\\Lib\\site-packages\\urllib3\\connectionpool.py:1061: InsecureRequestWarning: Unverified HTTPS request is being made to host '127.0.0.1'. Adding certificate verification is strongly advised. See: https://urllib3.readthedocs.io/en/1.26.x/advanced-usage.html#ssl-warnings\n",
      "  warnings.warn(\n"
     ]
    },
    {
     "name": "stdout",
     "output_type": "stream",
     "text": [
      "Team blue: Aatrox\n",
      "Team blue: Dr. Mundo\n",
      "Team blue: Shen\n",
      "Team blue: Zilean\n",
      "Team blue: Annie\n",
      "Team red: Ngộ Không\n",
      "Team red: Brand\n",
      "Team red: Rammus\n",
      "Team red: Alistar\n",
      "Team red: Graves\n",
      "Expected WIN, 55.04826307296753% probable\n",
      "Win/loss probability: 55.04826307296753%/44.95173692703247%\n"
     ]
    },
    {
     "name": "stderr",
     "output_type": "stream",
     "text": [
      "c:\\ProgramData\\anaconda3\\Lib\\site-packages\\urllib3\\connectionpool.py:1061: InsecureRequestWarning: Unverified HTTPS request is being made to host '127.0.0.1'. Adding certificate verification is strongly advised. See: https://urllib3.readthedocs.io/en/1.26.x/advanced-usage.html#ssl-warnings\n",
      "  warnings.warn(\n"
     ]
    },
    {
     "name": "stdout",
     "output_type": "stream",
     "text": [
      "Team blue: Aatrox\n",
      "Team blue: Dr. Mundo\n",
      "Team blue: Shen\n",
      "Team blue: Zilean\n",
      "Team blue: Annie\n",
      "Team red: Ngộ Không\n",
      "Team red: Brand\n",
      "Team red: Rammus\n",
      "Team red: Alistar\n",
      "Team red: Graves\n",
      "Expected WIN, 55.406999588012695% probable\n",
      "Win/loss probability: 55.406999588012695%/44.593000411987305%\n"
     ]
    },
    {
     "name": "stderr",
     "output_type": "stream",
     "text": [
      "c:\\ProgramData\\anaconda3\\Lib\\site-packages\\urllib3\\connectionpool.py:1061: InsecureRequestWarning: Unverified HTTPS request is being made to host '127.0.0.1'. Adding certificate verification is strongly advised. See: https://urllib3.readthedocs.io/en/1.26.x/advanced-usage.html#ssl-warnings\n",
      "  warnings.warn(\n"
     ]
    },
    {
     "name": "stdout",
     "output_type": "stream",
     "text": [
      "Team blue: Aatrox\n",
      "Team blue: Dr. Mundo\n",
      "Team blue: Shen\n",
      "Team blue: Zilean\n",
      "Team blue: Annie\n",
      "Team red: Ngộ Không\n",
      "Team red: Brand\n",
      "Team red: Rammus\n",
      "Team red: Alistar\n",
      "Team red: Graves\n",
      "Expected WIN, 55.90074062347412% probable\n",
      "Win/loss probability: 55.90074062347412%/44.09925937652588%\n"
     ]
    },
    {
     "name": "stderr",
     "output_type": "stream",
     "text": [
      "c:\\ProgramData\\anaconda3\\Lib\\site-packages\\urllib3\\connectionpool.py:1061: InsecureRequestWarning: Unverified HTTPS request is being made to host '127.0.0.1'. Adding certificate verification is strongly advised. See: https://urllib3.readthedocs.io/en/1.26.x/advanced-usage.html#ssl-warnings\n",
      "  warnings.warn(\n"
     ]
    },
    {
     "name": "stdout",
     "output_type": "stream",
     "text": [
      "Team blue: Aatrox\n",
      "Team blue: Dr. Mundo\n",
      "Team blue: Shen\n",
      "Team blue: Zilean\n",
      "Team blue: Annie\n",
      "Team red: Ngộ Không\n",
      "Team red: Brand\n",
      "Team red: Rammus\n",
      "Team red: Alistar\n",
      "Team red: Graves\n",
      "Expected WIN, 55.5158793926239% probable\n",
      "Win/loss probability: 55.5158793926239%/44.4841206073761%\n"
     ]
    }
   ],
   "source": [
    "import time\n",
    "\n",
    "def fetch_live_data():\n",
    "    response = requests.get('https://127.0.0.1:2999/liveclientdata/allgamedata', verify=False).json()\n",
    "    return response\n",
    "    \n",
    "predictor = TabularPredictor.load('autogluon_live_client_model')\n",
    "while True:\n",
    "    try:\n",
    "        process_and_predict(fetch_live_data(), predictor)\n",
    "    except:\n",
    "        continue\n",
    "    time.sleep(5)"
   ]
  },
  {
   "cell_type": "code",
   "execution_count": null,
   "metadata": {},
   "outputs": [],
   "source": []
  }
 ],
 "metadata": {
  "kernelspec": {
   "display_name": "Python 3",
   "language": "python",
   "name": "python3"
  },
  "language_info": {
   "codemirror_mode": {
    "name": "ipython",
    "version": 3
   },
   "file_extension": ".py",
   "mimetype": "text/x-python",
   "name": "python",
   "nbconvert_exporter": "python",
   "pygments_lexer": "ipython3",
   "version": "3.11.5"
  }
 },
 "nbformat": 4,
 "nbformat_minor": 2
}
