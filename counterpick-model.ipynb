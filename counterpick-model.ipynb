{
 "cells": [
  {
   "cell_type": "code",
   "execution_count": 17,
   "metadata": {},
   "outputs": [],
   "source": [
    "import pymongo\n",
    "import pandas as pd\n",
    "pd.set_option('float_format', '{:f}'.format)\n",
    "import os\n",
    "import seaborn as sns\n",
    "import matplotlib.pyplot as plt\n",
    "%matplotlib inline\n",
    "\n",
    "from sklearn.preprocessing import LabelEncoder\n",
    "from sklearn.preprocessing import StandardScaler \n",
    "from sklearn.linear_model import LogisticRegression\n",
    "from sklearn.preprocessing import StandardScaler\n",
    "from sklearn.linear_model import LogisticRegression"
   ]
  },
  {
   "cell_type": "code",
   "execution_count": 3,
   "metadata": {},
   "outputs": [],
   "source": [
    "config = {\n",
    "    'mongo_uri': \"mongo-uri\"\n",
    "}"
   ]
  },
  {
   "cell_type": "code",
   "execution_count": 5,
   "metadata": {},
   "outputs": [
    {
     "name": "stdout",
     "output_type": "stream",
     "text": [
      "Pinged your deployment. You successfully connected to MongoDB!\n"
     ]
    }
   ],
   "source": [
    "client = pymongo.MongoClient(config['mongo_uri'])\n",
    "db = client.myLOLDB\n",
    "collection = db['matchups']\n",
    "# Send a ping to confirm a successful connection\n",
    "try:\n",
    "    client.admin.command('ping')\n",
    "    print(\"Pinged your deployment. You successfully connected to MongoDB!\")\n",
    "except Exception as e:\n",
    "    print(e)"
   ]
  },
  {
   "cell_type": "code",
   "execution_count": 34,
   "metadata": {},
   "outputs": [
    {
     "name": "stdout",
     "output_type": "stream",
     "text": [
      "{'_id': ObjectId('6647aaf120da708a09b11458'), 'p_match_id': 'BR1_2938548776_', 'data': [{'championName': 'Maokai', 'goldEarned': 7287, 'totalMinionsKilled': 29, 'win': True, 'kills': 1, 'assists': 10, 'deaths': 2, 'visionScore': 54, 'puuid': 'Gmk0B-yPa3CViKNBo2-FbStWqihSAqOCG0OswNY3MYelhknv336NaiVW1BNwUnSwt3xVDDmujXLeTQ', 'totalDamageDealtToChampions': 6719, 'summonerName': 'personal sex'}], 'gameVersion': '14.10.584.5961'}\n",
      "{'_id': ObjectId('6647aaf220da708a09b11459'), 'p_match_id': 'BR1_2938548776_UTILITY', 'data': [{'championName': 'Milio', 'goldEarned': 7567, 'totalMinionsKilled': 8, 'win': False, 'kills': 0, 'assists': 12, 'deaths': 7, 'visionScore': 42, 'puuid': 'zkmvXg3JNzBHcAaiWnEL0mpYGi_Yi-UTUwUJYIButsZKqP6-aN0P35qfo3-C32_-4CKIJYk51pxiCg', 'totalDamageDealtToChampions': 4264, 'summonerName': 'ZeroQWE'}], 'gameVersion': '14.10.584.5961'}\n",
      "{'_id': ObjectId('6647ad5e20da708a09b117f8'), 'p_match_id': 'EUN1_3597247732_JUNGLE', 'data': [{'championName': 'Graves', 'goldEarned': 937, 'totalMinionsKilled': 0, 'win': True, 'kills': 0, 'assists': 0, 'deaths': 0, 'visionScore': 1, 'puuid': 'K3f5lFFN5O-A078MYKnahRyGJ0aEK7QV4aluOa6jPQ6yEEIj3oku_3h2UITS3sOdlOPmdwElLdXMFg', 'totalDamageDealtToChampions': 0, 'summonerName': 'MIDKING Aivis'}], 'gameVersion': '14.10.584.5961'}\n",
      "{'_id': ObjectId('6647ad5f20da708a09b117fc'), 'p_match_id': 'EUN1_3597247732_', 'data': [{'championName': 'Qiyana', 'goldEarned': 638, 'totalMinionsKilled': 0, 'win': False, 'kills': 0, 'assists': 0, 'deaths': 0, 'visionScore': 0, 'puuid': 'ZsoIj3eY5T6I_2WEWSs7C9_dmNp1uQBHt8JrVDM86K7p_uymVsMo9NzuohzVndDKmkT51VN8wiJS9w', 'totalDamageDealtToChampions': 0, 'summonerName': 'gorbert'}], 'gameVersion': '14.10.584.5961'}\n",
      "{'_id': ObjectId('6647ad6b20da708a09b1180a'), 'p_match_id': 'EUN1_3596981562_', 'data': [{'championName': 'Janna', 'goldEarned': 3837, 'totalMinionsKilled': 11, 'win': False, 'kills': 0, 'assists': 4, 'deaths': 4, 'visionScore': 18, 'puuid': '3VuT7aHAqXPInYoxSxtoDWVBp530mhCZ-4Pyex64J2CLzyz8y2PaNwdLnyEcKf_NWRi6MR0FsR9IsA', 'totalDamageDealtToChampions': 2576, 'summonerName': 'ale nudy hehe'}], 'gameVersion': '14.10.584.5961'}\n",
      "{'_id': ObjectId('6647ad6b20da708a09b1180c'), 'p_match_id': 'EUN1_3596981562_UTILITY', 'data': [{'championName': 'Nami', 'goldEarned': 5230, 'totalMinionsKilled': 23, 'win': True, 'kills': 0, 'assists': 11, 'deaths': 3, 'visionScore': 32, 'puuid': 'dcp6c1JFtgZm5CxNruwB3S0uz9Cxm7St7pdsyouwPNqw-0BOHnYzn8KCv8CUSnlzjvUQS29cV-YdDQ', 'totalDamageDealtToChampions': 2950, 'summonerName': 'Seraphinequeen'}], 'gameVersion': '14.10.584.5961'}\n",
      "{'_id': ObjectId('6647b13120da708a09b11cc5'), 'p_match_id': 'EUW1_6941744856_MIDDLE', 'data': [{'championName': 'Ahri', 'goldEarned': 1038, 'totalMinionsKilled': 18, 'win': True, 'kills': 0, 'assists': 0, 'deaths': 0, 'visionScore': 0, 'puuid': '6rwxLNxKJJXKTZ6Ha0pyvG5lQBUFvs8Tn7AGZdylkHGvyuNBFZW0EPMWKmSvAl7bxSCOsjQAsLY-Nw', 'totalDamageDealtToChampions': 0, 'summonerName': 'MT1 Straußer'}], 'gameVersion': '14.10.585.8823'}\n",
      "{'_id': ObjectId('6647b13120da708a09b11cc8'), 'p_match_id': 'EUW1_6941744856_', 'data': [{'championName': 'Tristana', 'goldEarned': 670, 'totalMinionsKilled': 0, 'win': False, 'kills': 0, 'assists': 0, 'deaths': 0, 'visionScore': 0, 'puuid': '-dJitLd5259faWhRO4bLMDmP1s3Ovehfrjm6ud1moy6CJo5q5x1n5p2bE9DYfj1TettPDWdtJva5cA', 'totalDamageDealtToChampions': 0, 'summonerName': 'The On3Sh0t'}], 'gameVersion': '14.10.585.8823'}\n",
      "{'_id': ObjectId('6647bb4820da708a09b122d1'), 'p_match_id': 'EUW1_6940498807_', 'data': [{'championName': 'Janna', 'goldEarned': 770, 'totalMinionsKilled': 0, 'win': False, 'kills': 0, 'assists': 0, 'deaths': 0, 'visionScore': 1, 'puuid': 'XXNVXjXrBwBG3_E1V5-uiwIU-g4PhLLVw0db6VqvsnGxn3dL50L-qb2d06IlQ5lUFb3ZsnHrlN6E_A', 'totalDamageDealtToChampions': 0, 'summonerName': 'Mameiliens'}], 'gameVersion': '14.10.584.5961'}\n",
      "{'_id': ObjectId('6647bb4820da708a09b122d3'), 'p_match_id': 'EUW1_6940498807_BOTTOM', 'data': [{'championName': 'Samira', 'goldEarned': 1796, 'totalMinionsKilled': 20, 'win': True, 'kills': 1, 'assists': 1, 'deaths': 0, 'visionScore': 0, 'puuid': 'T3cXxKimcrKg5G8yETUXKCaZmZh5BHlpJSra8v1DA8REqIqLqMAfbM9cJUVAd3tlL5eaPOU4YCw0zQ', 'totalDamageDealtToChampions': 983, 'summonerName': 'qianrenxue'}], 'gameVersion': '14.10.584.5961'}\n",
      "{'_id': ObjectId('6647e1f020da708a09b131d5'), 'p_match_id': 'LA1_1516516763_', 'data': [{'championName': 'Braum', 'goldEarned': 521, 'totalMinionsKilled': 0, 'win': False, 'kills': 0, 'assists': 0, 'deaths': 0, 'visionScore': 0, 'puuid': 'bhDG1sezxJHF7BArmhRm8l0I2rB4Mxr5Ng2mfo3t__K2gQmqj_lGuF0UaANno_gW-ZM0B8kVJe0ffA', 'totalDamageDealtToChampions': 0, 'summonerName': 'EL FElKER'}], 'gameVersion': '14.10.585.8823'}\n",
      "{'_id': ObjectId('6647e1f120da708a09b131d6'), 'p_match_id': 'LA1_1516516763_UTILITY', 'data': [{'championName': 'Karma', 'goldEarned': 539, 'totalMinionsKilled': 1, 'win': True, 'kills': 0, 'assists': 0, 'deaths': 0, 'visionScore': 0, 'puuid': 'RZrlw6GtesBwXknqT3aRYOAcsKZRaa2XCpNcE3RN8ciUX6oW7nCpCrm1IEvuCz3prYpRoKmODcpoyQ', 'totalDamageDealtToChampions': 254, 'summonerName': 'Renzo y 4 lows'}], 'gameVersion': '14.10.585.8823'}\n",
      "{'_id': ObjectId('6647e23c20da708a09b13261'), 'p_match_id': 'LA1_1516471256_', 'data': [{'championName': 'Aphelios', 'goldEarned': 740, 'totalMinionsKilled': 0, 'win': False, 'kills': 0, 'assists': 0, 'deaths': 0, 'visionScore': 0, 'puuid': '9e4DLkSNzqkJbg4ZK4w2Dk5ZeidStaHYIb-LqicJabF8XHCz0tamtfy_9pcGLScKv9Exm4rGZmD0XA', 'totalDamageDealtToChampions': 0, 'summonerName': 'The bean'}], 'gameVersion': '14.10.585.8823'}\n",
      "{'_id': ObjectId('6647e23d20da708a09b13263'), 'p_match_id': 'LA1_1516471256_BOTTOM', 'data': [{'championName': 'Jinx', 'goldEarned': 1339, 'totalMinionsKilled': 28, 'win': True, 'kills': 0, 'assists': 0, 'deaths': 0, 'visionScore': 0, 'puuid': 'nkLgWkQ8HI3LXCnmeG9-ZS0gxWvxsC4TMyv1Vf4x2ThliNFgRbsU0naKzuLVkhMZiN9xkOjqAw61DA', 'totalDamageDealtToChampions': 187, 'summonerName': 'DelayTW'}], 'gameVersion': '14.10.585.8823'}\n",
      "{'_id': ObjectId('6647e3c920da708a09b134b3'), 'p_match_id': 'NA1_4999270922_BOTTOM', 'data': [{'championName': 'Varus', 'goldEarned': 991, 'totalMinionsKilled': 4, 'win': True, 'kills': 1, 'assists': 0, 'deaths': 1, 'visionScore': 0, 'puuid': 'vdbWjRrXNqqmG1yB2paAn3AKEqFDnot7UKOj360ZJaTXU4TM-TsuxM9ok4QAf3VEqePbTE4CvxretA', 'totalDamageDealtToChampions': 719, 'summonerName': 'Marioflames'}], 'gameVersion': '14.10.585.8823'}\n",
      "{'_id': ObjectId('6647e3ca20da708a09b134b5'), 'p_match_id': 'NA1_4999270922_', 'data': [{'championName': 'Graves', 'goldEarned': 621, 'totalMinionsKilled': 0, 'win': False, 'kills': 0, 'assists': 0, 'deaths': 0, 'visionScore': 0, 'puuid': 'aCZqKXAmS3nWREaPInVotupUYX0gMfqwoJ22S1qKqEJi4untBIstK1nnoiGrETdWP9kFPVyT7v2PEQ', 'totalDamageDealtToChampions': 0, 'summonerName': 'Sheiden'}], 'gameVersion': '14.10.585.8823'}\n",
      "{'_id': ObjectId('6647e47c20da708a09b135df'), 'p_match_id': 'NA1_4998808663_', 'data': [{'championName': 'Leblanc', 'goldEarned': 533, 'totalMinionsKilled': 0, 'win': False, 'kills': 0, 'assists': 0, 'deaths': 0, 'visionScore': 0, 'puuid': 'UP0PD3ZUM2S0mRNPY5_z86nYf8DfleXlq1GGSrcewVPKm3UrYJXPJvzw6i0UM6gxi7VHUC4MAqRAKw', 'totalDamageDealtToChampions': 0, 'summonerName': 'trynalistenmore'}], 'gameVersion': '14.10.584.5961'}\n",
      "{'_id': ObjectId('6647e47d20da708a09b135e2'), 'p_match_id': 'NA1_4998808663_MIDDLE', 'data': [{'championName': 'Ahri', 'goldEarned': 684, 'totalMinionsKilled': 7, 'win': True, 'kills': 0, 'assists': 1, 'deaths': 0, 'visionScore': 0, 'puuid': 'YTeBOCFCPHttKC8q7LLcrrr9Ktj6hHeM-zlKZnX6IJEzsRXUNumAQqUshT90H4xxyu7rPsgtk0qREA', 'totalDamageDealtToChampions': 175, 'summonerName': 'RobbyBob'}], 'gameVersion': '14.10.584.5961'}\n",
      "{'_id': ObjectId('6648356920da708a09b13f4b'), 'p_match_id': 'TR1_1517858818_', 'data': [{'championName': 'Kindred', 'goldEarned': 1262, 'totalMinionsKilled': 0, 'win': False, 'kills': 0, 'assists': 0, 'deaths': 0, 'visionScore': 0, 'puuid': 'XBFxDIPyfm2MVXMHFekMRVsahYdJQLnxv03W6Ynj6t-tp6NYdAT40MfGtvo4EEUNGbPA4IW0mkKpAQ', 'totalDamageDealtToChampions': 0, 'summonerName': 'İHTİYAR JUNGLE '}], 'gameVersion': '14.10.584.5961'}\n",
      "{'_id': ObjectId('6648356a20da708a09b13f4f'), 'p_match_id': 'TR1_1517858818_JUNGLE', 'data': [{'championName': 'Belveth', 'goldEarned': 3347, 'totalMinionsKilled': 1, 'win': True, 'kills': 2, 'assists': 0, 'deaths': 0, 'visionScore': 3, 'puuid': 'eG-7qgGoc6QR0zh3SntBp5_Yqi4tA_KHYG0nBn_Si2UTjPQxLgG6tHuZ8O0_k9dYMjX1k38H5A27yw', 'totalDamageDealtToChampions': 1171, 'summonerName': '159K'}], 'gameVersion': '14.10.584.5961'}\n",
      "{'_id': ObjectId('664837c820da708a09b1413f'), 'p_match_id': 'RU_488166282_', 'data': [{'championName': 'Jayce', 'goldEarned': 552, 'totalMinionsKilled': 0, 'win': False, 'kills': 0, 'assists': 0, 'deaths': 0, 'visionScore': 0, 'puuid': 'Ppas-2STMvhfKQjKQ5LrrlP0jIXrBCxxF2l-TzaiIFkBeX7b5_xcR44KnMSAJX_6uHIb4m3ZyUDSSw', 'totalDamageDealtToChampions': 0, 'summonerName': 'GRONO MODE'}], 'gameVersion': '14.10.585.8823'}\n",
      "{'_id': ObjectId('664837c920da708a09b14142'), 'p_match_id': 'RU_488166282_MIDDLE', 'data': [{'championName': 'Yasuo', 'goldEarned': 664, 'totalMinionsKilled': 6, 'win': True, 'kills': 0, 'assists': 0, 'deaths': 0, 'visionScore': 0, 'puuid': 'ajw_PZ7EAWf3FZQAKgZEWfOB-EgSDwkWt1weS7yGqkmiX8guV1sJaUJbq_XV_PzFDMvHMYR7bik4wg', 'totalDamageDealtToChampions': 0, 'summonerName': 'EEGORIUSS LOX'}], 'gameVersion': '14.10.585.8823'}\n",
      "{'_id': ObjectId('664837de20da708a09b14162'), 'p_match_id': 'RU_488160410_', 'data': [{'championName': 'Warwick', 'goldEarned': 537, 'totalMinionsKilled': 0, 'win': False, 'kills': 0, 'assists': 0, 'deaths': 0, 'visionScore': 0, 'puuid': 'SBCGC9oheH_2UJ1aGOjm77uwUXeNV1vNLwCL037raXTG4aLXuRTdGwcecsE16y8sv0E7SpMVKRL9CQ', 'totalDamageDealtToChampions': 0, 'summonerName': 'emoji'}], 'gameVersion': '14.10.585.8823'}\n",
      "{'_id': ObjectId('664837df20da708a09b14166'), 'p_match_id': 'RU_488160410_JUNGLE', 'data': [{'championName': 'Evelynn', 'goldEarned': 702, 'totalMinionsKilled': 0, 'win': True, 'kills': 0, 'assists': 0, 'deaths': 0, 'visionScore': 0, 'puuid': 'xnUQoO_426aT3p-tcp4VgmASvZvDv46akmNjzzcDM8VkVXonrsxTR3hoaSWKDc74Rb6lQLebnq3i0w', 'totalDamageDealtToChampions': 0, 'summonerName': 'i know im sexy'}], 'gameVersion': '14.10.585.8823'}\n",
      "{'_id': ObjectId('664837eb20da708a09b14178'), 'p_match_id': 'RU_488151058_MIDDLE', 'data': [{'championName': 'Syndra', 'goldEarned': 800, 'totalMinionsKilled': 12, 'win': True, 'kills': 0, 'assists': 0, 'deaths': 0, 'visionScore': 0, 'puuid': '61MQn0K8SkFvxZxA8qbkVzi4stkarrYEVZAfZg_OQZ8U11mX-R7TstbEo_odmw_dlFE-94uQ-5XGKA', 'totalDamageDealtToChampions': 0, 'summonerName': 'Enthlorsam'}], 'gameVersion': '14.10.584.5961'}\n",
      "{'_id': ObjectId('664837ec20da708a09b1417b'), 'p_match_id': 'RU_488151058_', 'data': [{'championName': 'LeeSin', 'goldEarned': 590, 'totalMinionsKilled': 0, 'win': False, 'kills': 0, 'assists': 0, 'deaths': 0, 'visionScore': 0, 'puuid': 'YhDXRmaLcZbTVKXT2MBw8uO6jEbg-g0DJLcyvlQTXwcA1UTzlslX22RVyYYw3k9aOGnxmhkTp1VWAw', 'totalDamageDealtToChampions': 0, 'summonerName': 'LFT unwoc'}], 'gameVersion': '14.10.584.5961'}\n",
      "{'_id': ObjectId('6648392820da708a09b14321'), 'p_match_id': 'VN2_438385681_', 'data': [{'championName': 'Maokai', 'goldEarned': 548, 'totalMinionsKilled': 0, 'win': False, 'kills': 0, 'assists': 0, 'deaths': 0, 'visionScore': 0, 'puuid': 'XA-td0O4V21QRW6nRfzEMOCBdvd8kh14dWklznEFG5_dPuKSKSdc5iVqWD54NqdPv75LIxPlyb4lMw', 'totalDamageDealtToChampions': 0, 'summonerName': 'Giang Hoang 2021'}], 'gameVersion': '14.10.584.5961'}\n",
      "{'_id': ObjectId('6648392920da708a09b14325'), 'p_match_id': 'VN2_438385681_JUNGLE', 'data': [{'championName': 'Nidalee', 'goldEarned': 718, 'totalMinionsKilled': 0, 'win': True, 'kills': 0, 'assists': 0, 'deaths': 0, 'visionScore': 0, 'puuid': '8QGuBL3IExM2zOIKkN6sUJLg_h2m9KdsCi1h8Thv0xafBVC8PNrz8yHCfs3YNi2YIVQjhlq66o3YjA', 'totalDamageDealtToChampions': 0, 'summonerName': '1st Khan '}], 'gameVersion': '14.10.584.5961'}\n"
     ]
    }
   ],
   "source": [
    "data_list = []\n",
    "for matchup in collection.find():\n",
    "    try:\n",
    "        data = {\n",
    "            'match_id': matchup['p_match_id'],\n",
    "            'champion1': matchup['data'][0]['championName'].lower(),\n",
    "            'champion2': matchup['data'][1]['championName'].lower(),\n",
    "            'win': 0 if matchup['data'][0]['win'] else 1,\n",
    "        }\n",
    "    except:\n",
    "        print(matchup)\n",
    "\n",
    "    data_list.append(data)\n",
    "\n",
    "df = pd.DataFrame(data_list)"
   ]
  },
  {
   "cell_type": "code",
   "execution_count": 35,
   "metadata": {},
   "outputs": [
    {
     "data": {
      "text/html": [
       "<div>\n",
       "<style scoped>\n",
       "    .dataframe tbody tr th:only-of-type {\n",
       "        vertical-align: middle;\n",
       "    }\n",
       "\n",
       "    .dataframe tbody tr th {\n",
       "        vertical-align: top;\n",
       "    }\n",
       "\n",
       "    .dataframe thead th {\n",
       "        text-align: right;\n",
       "    }\n",
       "</style>\n",
       "<table border=\"1\" class=\"dataframe\">\n",
       "  <thead>\n",
       "    <tr style=\"text-align: right;\">\n",
       "      <th></th>\n",
       "      <th>match_id</th>\n",
       "      <th>champion1</th>\n",
       "      <th>champion2</th>\n",
       "      <th>win</th>\n",
       "    </tr>\n",
       "  </thead>\n",
       "  <tbody>\n",
       "    <tr>\n",
       "      <th>0</th>\n",
       "      <td>BR1_2938902060_TOP</td>\n",
       "      <td>chogath</td>\n",
       "      <td>renekton</td>\n",
       "      <td>0</td>\n",
       "    </tr>\n",
       "    <tr>\n",
       "      <th>1</th>\n",
       "      <td>BR1_2938902060_JUNGLE</td>\n",
       "      <td>kindred</td>\n",
       "      <td>viego</td>\n",
       "      <td>0</td>\n",
       "    </tr>\n",
       "    <tr>\n",
       "      <th>2</th>\n",
       "      <td>BR1_2938902060_MIDDLE</td>\n",
       "      <td>zoe</td>\n",
       "      <td>ahri</td>\n",
       "      <td>0</td>\n",
       "    </tr>\n",
       "    <tr>\n",
       "      <th>3</th>\n",
       "      <td>BR1_2938902060_BOTTOM</td>\n",
       "      <td>caitlyn</td>\n",
       "      <td>ashe</td>\n",
       "      <td>0</td>\n",
       "    </tr>\n",
       "    <tr>\n",
       "      <th>4</th>\n",
       "      <td>BR1_2938902060_UTILITY</td>\n",
       "      <td>varus</td>\n",
       "      <td>rumble</td>\n",
       "      <td>0</td>\n",
       "    </tr>\n",
       "  </tbody>\n",
       "</table>\n",
       "</div>"
      ],
      "text/plain": [
       "                 match_id champion1 champion2  win\n",
       "0      BR1_2938902060_TOP   chogath  renekton    0\n",
       "1   BR1_2938902060_JUNGLE   kindred     viego    0\n",
       "2   BR1_2938902060_MIDDLE       zoe      ahri    0\n",
       "3   BR1_2938902060_BOTTOM   caitlyn      ashe    0\n",
       "4  BR1_2938902060_UTILITY     varus    rumble    0"
      ]
     },
     "execution_count": 35,
     "metadata": {},
     "output_type": "execute_result"
    }
   ],
   "source": [
    "df.head(5)"
   ]
  },
  {
   "cell_type": "code",
   "execution_count": 36,
   "metadata": {},
   "outputs": [],
   "source": [
    "from sklearn.model_selection import train_test_split\n",
    "\n",
    "train_dataset, test_dataset = train_test_split(df, test_size=0.2)\n",
    "\n",
    "# We want to predict the 'win' variable.\n",
    "train_features = train_dataset.copy()\n",
    "test_features = test_dataset.copy()\n",
    "\n",
    "train_labels = train_features.pop('win') # returns column 'win'\n",
    "test_labels = test_features.pop('win') # returns column 'win'"
   ]
  },
  {
   "cell_type": "code",
   "execution_count": 28,
   "metadata": {},
   "outputs": [],
   "source": [
    "import requests\n",
    "\n",
    "response = requests.get('https://ddragon.leagueoflegends.com/cdn/14.10.1/data/en_US/champion.json')\n",
    "\n",
    "champion_list = [name.lower() for name in list(response.json()['data'].keys())]"
   ]
  },
  {
   "cell_type": "code",
   "execution_count": 37,
   "metadata": {},
   "outputs": [],
   "source": [
    "le = LabelEncoder()\n",
    "\n",
    "le = le.fit(champion_list)\n",
    "\n",
    "train_features = train_features.drop('match_id', axis=1).apply(lambda x: le.transform(x))\n",
    "test_features = test_features.drop('match_id', axis=1).apply(lambda x: le.transform(x))"
   ]
  },
  {
   "cell_type": "code",
   "execution_count": 39,
   "metadata": {},
   "outputs": [],
   "source": [
    "# Normalization\n",
    "scaler = StandardScaler()\n",
    "train_features = scaler.fit_transform(train_features)\n",
    "test_features = scaler.transform(test_features)"
   ]
  },
  {
   "cell_type": "code",
   "execution_count": 40,
   "metadata": {},
   "outputs": [
    {
     "name": "stdout",
     "output_type": "stream",
     "text": [
      "Accuracy of Logistic regression classifier on training set: 0.58\n",
      "Accuracy of Logistic regression classifier on test set: 0.58\n"
     ]
    }
   ],
   "source": [
    "logreg = LogisticRegression()\n",
    "logreg.fit(train_features, train_labels)\n",
    "print('Accuracy of Logistic regression classifier on training set: {:.2f}'\n",
    "     .format(logreg.score(train_features, train_labels)))\n",
    "print('Accuracy of Logistic regression classifier on test set: {:.2f}'\n",
    "     .format(logreg.score(test_features, test_labels)))"
   ]
  },
  {
   "cell_type": "code",
   "execution_count": 45,
   "metadata": {},
   "outputs": [],
   "source": [
    "new_data = {\n",
    "    'champ1': ['xayah', 'karma', 'xerath', 'gragas', 'chogath'],\n",
    "    'champ2': ['tristana', 'lulu', 'syndra', 'sejuani', 'gnar']\n",
    "}\n",
    "new_df = pd.DataFrame(new_data)"
   ]
  },
  {
   "cell_type": "code",
   "execution_count": 46,
   "metadata": {},
   "outputs": [
    {
     "data": {
      "text/html": [
       "<div>\n",
       "<style scoped>\n",
       "    .dataframe tbody tr th:only-of-type {\n",
       "        vertical-align: middle;\n",
       "    }\n",
       "\n",
       "    .dataframe tbody tr th {\n",
       "        vertical-align: top;\n",
       "    }\n",
       "\n",
       "    .dataframe thead th {\n",
       "        text-align: right;\n",
       "    }\n",
       "</style>\n",
       "<table border=\"1\" class=\"dataframe\">\n",
       "  <thead>\n",
       "    <tr style=\"text-align: right;\">\n",
       "      <th></th>\n",
       "      <th>champ1</th>\n",
       "      <th>champ2</th>\n",
       "    </tr>\n",
       "  </thead>\n",
       "  <tbody>\n",
       "    <tr>\n",
       "      <th>0</th>\n",
       "      <td>153</td>\n",
       "      <td>135</td>\n",
       "    </tr>\n",
       "    <tr>\n",
       "      <th>1</th>\n",
       "      <td>55</td>\n",
       "      <td>73</td>\n",
       "    </tr>\n",
       "    <tr>\n",
       "      <th>2</th>\n",
       "      <td>154</td>\n",
       "      <td>128</td>\n",
       "    </tr>\n",
       "    <tr>\n",
       "      <th>3</th>\n",
       "      <td>38</td>\n",
       "      <td>112</td>\n",
       "    </tr>\n",
       "    <tr>\n",
       "      <th>4</th>\n",
       "      <td>21</td>\n",
       "      <td>37</td>\n",
       "    </tr>\n",
       "  </tbody>\n",
       "</table>\n",
       "</div>"
      ],
      "text/plain": [
       "   champ1  champ2\n",
       "0     153     135\n",
       "1      55      73\n",
       "2     154     128\n",
       "3      38     112\n",
       "4      21      37"
      ]
     },
     "execution_count": 46,
     "metadata": {},
     "output_type": "execute_result"
    }
   ],
   "source": [
    "new_df = new_df.apply(lambda x: le.transform(x))\n",
    "\n",
    "new_df.tail(5)"
   ]
  },
  {
   "cell_type": "code",
   "execution_count": 47,
   "metadata": {},
   "outputs": [
    {
     "name": "stderr",
     "output_type": "stream",
     "text": [
      "c:\\ProgramData\\anaconda3\\Lib\\site-packages\\sklearn\\base.py:432: UserWarning: X has feature names, but LogisticRegression was fitted without feature names\n",
      "  warnings.warn(\n"
     ]
    }
   ],
   "source": [
    "result = logreg.predict(new_df)\n",
    "\n",
    "def find_winner(lst):\n",
    "    return max(set(lst), key=lst.count)\n",
    "\n",
    "winner_prediction = find_winner(result.tolist())"
   ]
  },
  {
   "cell_type": "code",
   "execution_count": 49,
   "metadata": {},
   "outputs": [
    {
     "name": "stdout",
     "output_type": "stream",
     "text": [
      "Predicted winner is team 1: \n",
      "0      xayah\n",
      "1      karma\n",
      "2     xerath\n",
      "3     gragas\n",
      "4    chogath\n",
      "Name: champ1, dtype: object\n"
     ]
    }
   ],
   "source": [
    "inverse_prediction = new_df.apply(lambda x: le.inverse_transform(x)) # we apply inverse transform\n",
    "\n",
    "if winner_prediction == 1:\n",
    "    print('Predicted winner is team 1: \\n{}'.format(str(inverse_prediction['champ1'])))\n",
    "else:\n",
    "     print('Predicted winner is team 2: \\n{}'.format(str(inverse_prediction['champ2'])))"
   ]
  }
 ],
 "metadata": {
  "kernelspec": {
   "display_name": "base",
   "language": "python",
   "name": "python3"
  },
  "language_info": {
   "codemirror_mode": {
    "name": "ipython",
    "version": 3
   },
   "file_extension": ".py",
   "mimetype": "text/x-python",
   "name": "python",
   "nbconvert_exporter": "python",
   "pygments_lexer": "ipython3",
   "version": "3.11.5"
  }
 },
 "nbformat": 4,
 "nbformat_minor": 2
}
